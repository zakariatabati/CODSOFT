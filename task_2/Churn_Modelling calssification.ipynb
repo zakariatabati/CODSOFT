{
 "cells": [
  {
   "cell_type": "markdown",
   "id": "366a040d-d67e-4973-b663-ebec75ba4d65",
   "metadata": {},
   "source": [
    "# Import Libs"
   ]
  },
  {
   "cell_type": "code",
   "execution_count": 1,
   "id": "cdcaccc1-fe27-4037-85b4-9549339ef299",
   "metadata": {},
   "outputs": [],
   "source": [
    "import pandas as pd\n",
    "import seaborn as sns\n",
    "import matplotlib.pyplot as plt"
   ]
  },
  {
   "cell_type": "markdown",
   "id": "21f07cbc-6485-4508-88f3-1409075ec0e0",
   "metadata": {},
   "source": [
    "# Data init"
   ]
  },
  {
   "cell_type": "code",
   "execution_count": 2,
   "id": "1f6846fd-656f-4119-bf0a-e50fa29820e9",
   "metadata": {},
   "outputs": [],
   "source": [
    "df = pd.read_csv(\"Churn_Modelling.csv\")\n",
    "df_train = df.copy()"
   ]
  },
  {
   "cell_type": "code",
   "execution_count": 3,
   "id": "4031c4b2-7752-48f5-adab-f1f52e2ecc8b",
   "metadata": {},
   "outputs": [
    {
     "data": {
      "text/html": [
       "<div>\n",
       "<style scoped>\n",
       "    .dataframe tbody tr th:only-of-type {\n",
       "        vertical-align: middle;\n",
       "    }\n",
       "\n",
       "    .dataframe tbody tr th {\n",
       "        vertical-align: top;\n",
       "    }\n",
       "\n",
       "    .dataframe thead th {\n",
       "        text-align: right;\n",
       "    }\n",
       "</style>\n",
       "<table border=\"1\" class=\"dataframe\">\n",
       "  <thead>\n",
       "    <tr style=\"text-align: right;\">\n",
       "      <th></th>\n",
       "      <th>RowNumber</th>\n",
       "      <th>CustomerId</th>\n",
       "      <th>Surname</th>\n",
       "      <th>CreditScore</th>\n",
       "      <th>Geography</th>\n",
       "      <th>Gender</th>\n",
       "      <th>Age</th>\n",
       "      <th>Tenure</th>\n",
       "      <th>Balance</th>\n",
       "      <th>NumOfProducts</th>\n",
       "      <th>HasCrCard</th>\n",
       "      <th>IsActiveMember</th>\n",
       "      <th>EstimatedSalary</th>\n",
       "      <th>Exited</th>\n",
       "    </tr>\n",
       "  </thead>\n",
       "  <tbody>\n",
       "    <tr>\n",
       "      <th>9394</th>\n",
       "      <td>9395</td>\n",
       "      <td>15615753</td>\n",
       "      <td>Upchurch</td>\n",
       "      <td>597</td>\n",
       "      <td>Germany</td>\n",
       "      <td>Female</td>\n",
       "      <td>35</td>\n",
       "      <td>8</td>\n",
       "      <td>131101.04</td>\n",
       "      <td>1</td>\n",
       "      <td>1</td>\n",
       "      <td>1</td>\n",
       "      <td>192852.67</td>\n",
       "      <td>0</td>\n",
       "    </tr>\n",
       "    <tr>\n",
       "      <th>898</th>\n",
       "      <td>899</td>\n",
       "      <td>15654700</td>\n",
       "      <td>Fallaci</td>\n",
       "      <td>523</td>\n",
       "      <td>France</td>\n",
       "      <td>Female</td>\n",
       "      <td>40</td>\n",
       "      <td>2</td>\n",
       "      <td>102967.41</td>\n",
       "      <td>1</td>\n",
       "      <td>1</td>\n",
       "      <td>0</td>\n",
       "      <td>128702.10</td>\n",
       "      <td>1</td>\n",
       "    </tr>\n",
       "    <tr>\n",
       "      <th>2398</th>\n",
       "      <td>2399</td>\n",
       "      <td>15633877</td>\n",
       "      <td>Morrison</td>\n",
       "      <td>706</td>\n",
       "      <td>Spain</td>\n",
       "      <td>Female</td>\n",
       "      <td>42</td>\n",
       "      <td>8</td>\n",
       "      <td>95386.82</td>\n",
       "      <td>1</td>\n",
       "      <td>1</td>\n",
       "      <td>1</td>\n",
       "      <td>75732.25</td>\n",
       "      <td>0</td>\n",
       "    </tr>\n",
       "    <tr>\n",
       "      <th>5906</th>\n",
       "      <td>5907</td>\n",
       "      <td>15745623</td>\n",
       "      <td>Worsnop</td>\n",
       "      <td>788</td>\n",
       "      <td>France</td>\n",
       "      <td>Male</td>\n",
       "      <td>32</td>\n",
       "      <td>4</td>\n",
       "      <td>112079.58</td>\n",
       "      <td>1</td>\n",
       "      <td>0</td>\n",
       "      <td>0</td>\n",
       "      <td>89368.59</td>\n",
       "      <td>0</td>\n",
       "    </tr>\n",
       "    <tr>\n",
       "      <th>2343</th>\n",
       "      <td>2344</td>\n",
       "      <td>15765902</td>\n",
       "      <td>Gibson</td>\n",
       "      <td>706</td>\n",
       "      <td>Germany</td>\n",
       "      <td>Male</td>\n",
       "      <td>38</td>\n",
       "      <td>5</td>\n",
       "      <td>163034.82</td>\n",
       "      <td>2</td>\n",
       "      <td>1</td>\n",
       "      <td>1</td>\n",
       "      <td>135662.17</td>\n",
       "      <td>0</td>\n",
       "    </tr>\n",
       "  </tbody>\n",
       "</table>\n",
       "</div>"
      ],
      "text/plain": [
       "      RowNumber  CustomerId   Surname  CreditScore Geography  Gender  Age  \\\n",
       "9394       9395    15615753  Upchurch          597   Germany  Female   35   \n",
       "898         899    15654700   Fallaci          523    France  Female   40   \n",
       "2398       2399    15633877  Morrison          706     Spain  Female   42   \n",
       "5906       5907    15745623   Worsnop          788    France    Male   32   \n",
       "2343       2344    15765902    Gibson          706   Germany    Male   38   \n",
       "\n",
       "      Tenure    Balance  NumOfProducts  HasCrCard  IsActiveMember  \\\n",
       "9394       8  131101.04              1          1               1   \n",
       "898        2  102967.41              1          1               0   \n",
       "2398       8   95386.82              1          1               1   \n",
       "5906       4  112079.58              1          0               0   \n",
       "2343       5  163034.82              2          1               1   \n",
       "\n",
       "      EstimatedSalary  Exited  \n",
       "9394        192852.67       0  \n",
       "898         128702.10       1  \n",
       "2398         75732.25       0  \n",
       "5906         89368.59       0  \n",
       "2343        135662.17       0  "
      ]
     },
     "execution_count": 3,
     "metadata": {},
     "output_type": "execute_result"
    }
   ],
   "source": [
    "df_train.sample(5,random_state =0)"
   ]
  },
  {
   "cell_type": "code",
   "execution_count": 4,
   "id": "ae89927f-0391-4f73-a6e5-2a43ed4666b2",
   "metadata": {},
   "outputs": [
    {
     "name": "stdout",
     "output_type": "stream",
     "text": [
      "<class 'pandas.core.frame.DataFrame'>\n",
      "RangeIndex: 10000 entries, 0 to 9999\n",
      "Data columns (total 14 columns):\n",
      " #   Column           Non-Null Count  Dtype  \n",
      "---  ------           --------------  -----  \n",
      " 0   RowNumber        10000 non-null  int64  \n",
      " 1   CustomerId       10000 non-null  int64  \n",
      " 2   Surname          10000 non-null  object \n",
      " 3   CreditScore      10000 non-null  int64  \n",
      " 4   Geography        10000 non-null  object \n",
      " 5   Gender           10000 non-null  object \n",
      " 6   Age              10000 non-null  int64  \n",
      " 7   Tenure           10000 non-null  int64  \n",
      " 8   Balance          10000 non-null  float64\n",
      " 9   NumOfProducts    10000 non-null  int64  \n",
      " 10  HasCrCard        10000 non-null  int64  \n",
      " 11  IsActiveMember   10000 non-null  int64  \n",
      " 12  EstimatedSalary  10000 non-null  float64\n",
      " 13  Exited           10000 non-null  int64  \n",
      "dtypes: float64(2), int64(9), object(3)\n",
      "memory usage: 1.1+ MB\n"
     ]
    }
   ],
   "source": [
    "df_train.info()"
   ]
  },
  {
   "cell_type": "code",
   "execution_count": 5,
   "id": "3d413d20-0e19-4d96-98b5-c60b03fdbbbd",
   "metadata": {},
   "outputs": [
    {
     "data": {
      "text/html": [
       "<div>\n",
       "<style scoped>\n",
       "    .dataframe tbody tr th:only-of-type {\n",
       "        vertical-align: middle;\n",
       "    }\n",
       "\n",
       "    .dataframe tbody tr th {\n",
       "        vertical-align: top;\n",
       "    }\n",
       "\n",
       "    .dataframe thead th {\n",
       "        text-align: right;\n",
       "    }\n",
       "</style>\n",
       "<table border=\"1\" class=\"dataframe\">\n",
       "  <thead>\n",
       "    <tr style=\"text-align: right;\">\n",
       "      <th></th>\n",
       "      <th>Surname</th>\n",
       "      <th>CreditScore</th>\n",
       "      <th>Geography</th>\n",
       "      <th>Gender</th>\n",
       "      <th>Age</th>\n",
       "      <th>Tenure</th>\n",
       "      <th>Balance</th>\n",
       "      <th>NumOfProducts</th>\n",
       "      <th>HasCrCard</th>\n",
       "      <th>IsActiveMember</th>\n",
       "      <th>EstimatedSalary</th>\n",
       "      <th>Exited</th>\n",
       "    </tr>\n",
       "  </thead>\n",
       "  <tbody>\n",
       "    <tr>\n",
       "      <th>0</th>\n",
       "      <td>Hargrave</td>\n",
       "      <td>619</td>\n",
       "      <td>France</td>\n",
       "      <td>Female</td>\n",
       "      <td>42</td>\n",
       "      <td>2</td>\n",
       "      <td>0.0</td>\n",
       "      <td>1</td>\n",
       "      <td>1</td>\n",
       "      <td>1</td>\n",
       "      <td>101348.88</td>\n",
       "      <td>1</td>\n",
       "    </tr>\n",
       "  </tbody>\n",
       "</table>\n",
       "</div>"
      ],
      "text/plain": [
       "    Surname  CreditScore Geography  Gender  Age  Tenure  Balance  \\\n",
       "0  Hargrave          619    France  Female   42       2      0.0   \n",
       "\n",
       "   NumOfProducts  HasCrCard  IsActiveMember  EstimatedSalary  Exited  \n",
       "0              1          1               1        101348.88       1  "
      ]
     },
     "execution_count": 5,
     "metadata": {},
     "output_type": "execute_result"
    }
   ],
   "source": [
    "# we don't nedd rownumber and customerif in our processing \n",
    "df_train.drop(columns=[\"RowNumber\",\"CustomerId\"],inplace=True)\n",
    "df_train.head(1)"
   ]
  },
  {
   "cell_type": "markdown",
   "id": "cedacd9c-5c81-42d7-a397-3b044ac5c728",
   "metadata": {},
   "source": [
    "**columns info**\n",
    "1. Surname: Customer's last name.\n",
    "2. CreditScore: Customer's credit score.\n",
    "3. Geography: Country of the customer.\n",
    "4. Gender: Gender of the customer.\n",
    "5. Age: Age of the customer.\n",
    "6. Tenure: Number of years the customer has been with the bank.\n",
    "7. Balance: Account balance of the customer.\n",
    "8. NumOfProducts: Number of products the customer has with the bank.\n",
    "9. HasCrCard: Whether the customer has a credit card (1: Yes, 0: No).\n",
    "10. IsActiveMember: Whether the customer is an active member (1: Yes, 0: No).\n",
    "11. EstimatedSalary: Estimated salary of the customer.\n",
    "12. Exited: Whether the customer has churned (1: Yes, 0: No).\n"
   ]
  },
  {
   "cell_type": "code",
   "execution_count": 6,
   "id": "39204238-bfe2-47df-870e-a59dac30a554",
   "metadata": {},
   "outputs": [
    {
     "data": {
      "text/plain": [
       "<Axes: xlabel='Exited', ylabel='count'>"
      ]
     },
     "execution_count": 6,
     "metadata": {},
     "output_type": "execute_result"
    },
    {
     "data": {
      "image/png": "[encoded data removed]",
      "text/plain": [
       "<Figure size 640x480 with 1 Axes>"
      ]
     },
     "metadata": {},
     "output_type": "display_data"
    }
   ],
   "source": [
    "sns.countplot(data=df_train,x=\"Exited\")"
   ]
  },
  {
   "cell_type": "markdown",
   "id": "3eb2223c-7133-47c2-83c9-e475eb844ad9",
   "metadata": {},
   "source": [
    "### we have imbalanced dataset  we need to solve this problem"
   ]
  },
  {
   "cell_type": "code",
   "execution_count": 7,
   "id": "aaf8eb8d-3bab-402c-b831-740b1bf388d5",
   "metadata": {},
   "outputs": [],
   "source": [
    "exited = df_train[df_train[\"Exited\"]==1]\n",
    "not_exited = df_train[df_train[\"Exited\"]==0]\n",
    "not_exited = not_exited.sample(exited.shape[0],random_state=42)\n",
    "df_train = pd.concat([not_exited,exited])"
   ]
  },
  {
   "cell_type": "code",
   "execution_count": 8,
   "id": "2f76e8eb-63c6-499c-a873-3432049ffe8b",
   "metadata": {},
   "outputs": [
    {
     "data": {
      "text/html": [
       "<div>\n",
       "<style scoped>\n",
       "    .dataframe tbody tr th:only-of-type {\n",
       "        vertical-align: middle;\n",
       "    }\n",
       "\n",
       "    .dataframe tbody tr th {\n",
       "        vertical-align: top;\n",
       "    }\n",
       "\n",
       "    .dataframe thead th {\n",
       "        text-align: right;\n",
       "    }\n",
       "</style>\n",
       "<table border=\"1\" class=\"dataframe\">\n",
       "  <thead>\n",
       "    <tr style=\"text-align: right;\">\n",
       "      <th></th>\n",
       "      <th>Surname</th>\n",
       "      <th>CreditScore</th>\n",
       "      <th>Geography</th>\n",
       "      <th>Gender</th>\n",
       "      <th>Age</th>\n",
       "      <th>Tenure</th>\n",
       "      <th>Balance</th>\n",
       "      <th>NumOfProducts</th>\n",
       "      <th>HasCrCard</th>\n",
       "      <th>IsActiveMember</th>\n",
       "      <th>EstimatedSalary</th>\n",
       "      <th>Exited</th>\n",
       "    </tr>\n",
       "  </thead>\n",
       "  <tbody>\n",
       "    <tr>\n",
       "      <th>9619</th>\n",
       "      <td>Gibbons</td>\n",
       "      <td>684</td>\n",
       "      <td>Germany</td>\n",
       "      <td>Male</td>\n",
       "      <td>35</td>\n",
       "      <td>3</td>\n",
       "      <td>99967.76</td>\n",
       "      <td>1</td>\n",
       "      <td>1</td>\n",
       "      <td>1</td>\n",
       "      <td>176882.08</td>\n",
       "      <td>0</td>\n",
       "    </tr>\n",
       "    <tr>\n",
       "      <th>3480</th>\n",
       "      <td>Bruno</td>\n",
       "      <td>588</td>\n",
       "      <td>Germany</td>\n",
       "      <td>Female</td>\n",
       "      <td>30</td>\n",
       "      <td>0</td>\n",
       "      <td>110148.49</td>\n",
       "      <td>1</td>\n",
       "      <td>1</td>\n",
       "      <td>0</td>\n",
       "      <td>5790.90</td>\n",
       "      <td>1</td>\n",
       "    </tr>\n",
       "    <tr>\n",
       "      <th>9384</th>\n",
       "      <td>Otutodilichukwu</td>\n",
       "      <td>771</td>\n",
       "      <td>France</td>\n",
       "      <td>Female</td>\n",
       "      <td>57</td>\n",
       "      <td>4</td>\n",
       "      <td>0.00</td>\n",
       "      <td>1</td>\n",
       "      <td>0</td>\n",
       "      <td>0</td>\n",
       "      <td>85876.67</td>\n",
       "      <td>1</td>\n",
       "    </tr>\n",
       "    <tr>\n",
       "      <th>1291</th>\n",
       "      <td>Andrews</td>\n",
       "      <td>734</td>\n",
       "      <td>Spain</td>\n",
       "      <td>Female</td>\n",
       "      <td>37</td>\n",
       "      <td>2</td>\n",
       "      <td>130404.92</td>\n",
       "      <td>1</td>\n",
       "      <td>0</td>\n",
       "      <td>0</td>\n",
       "      <td>34548.74</td>\n",
       "      <td>0</td>\n",
       "    </tr>\n",
       "    <tr>\n",
       "      <th>2007</th>\n",
       "      <td>Chukwuemeka</td>\n",
       "      <td>705</td>\n",
       "      <td>Germany</td>\n",
       "      <td>Female</td>\n",
       "      <td>43</td>\n",
       "      <td>10</td>\n",
       "      <td>146547.78</td>\n",
       "      <td>1</td>\n",
       "      <td>0</td>\n",
       "      <td>1</td>\n",
       "      <td>10072.55</td>\n",
       "      <td>1</td>\n",
       "    </tr>\n",
       "  </tbody>\n",
       "</table>\n",
       "</div>"
      ],
      "text/plain": [
       "              Surname  CreditScore Geography  Gender  Age  Tenure    Balance  \\\n",
       "9619          Gibbons          684   Germany    Male   35       3   99967.76   \n",
       "3480            Bruno          588   Germany  Female   30       0  110148.49   \n",
       "9384  Otutodilichukwu          771    France  Female   57       4       0.00   \n",
       "1291          Andrews          734     Spain  Female   37       2  130404.92   \n",
       "2007      Chukwuemeka          705   Germany  Female   43      10  146547.78   \n",
       "\n",
       "      NumOfProducts  HasCrCard  IsActiveMember  EstimatedSalary  Exited  \n",
       "9619              1          1               1        176882.08       0  \n",
       "3480              1          1               0          5790.90       1  \n",
       "9384              1          0               0         85876.67       1  \n",
       "1291              1          0               0         34548.74       0  \n",
       "2007              1          0               1         10072.55       1  "
      ]
     },
     "execution_count": 8,
     "metadata": {},
     "output_type": "execute_result"
    }
   ],
   "source": [
    "df_train.sample(5)"
   ]
  },
  {
   "cell_type": "code",
   "execution_count": 9,
   "id": "0f4ba287-de88-4074-bd04-19c8ec437c9e",
   "metadata": {},
   "outputs": [
    {
     "data": {
      "text/plain": [
       "<Axes: xlabel='Exited', ylabel='count'>"
      ]
     },
     "execution_count": 9,
     "metadata": {},
     "output_type": "execute_result"
    },
    {
     "data": {
      "image/png": "[encoded data removed]",
      "text/plain": [
       "<Figure size 640x480 with 1 Axes>"
      ]
     },
     "metadata": {},
     "output_type": "display_data"
    }
   ],
   "source": [
    "sns.countplot(data=df_train,x=\"Exited\",color='r')"
   ]
  },
  {
   "cell_type": "code",
   "execution_count": 63,
   "id": "1de58949-107c-4be4-be69-359dd9cecfcf",
   "metadata": {},
   "outputs": [],
   "source": [
    "## we must treat Tenure ,Numofprod,hascrcard and isactivememeebr as a categorical columns not numerical\n",
    "df_train[\"Tenure\"] = df_train[\"Tenure\"].astype(\"object\")\n",
    "df_train[\"NumOfProducts\"] = df_train[\"NumOfProducts\"].astype(\"object\")\n",
    "df_train[\"HasCrCard\"] = df_train[\"HasCrCard\"].astype(\"object\")\n",
    "df_train[\"IsActiveMember\"] = df_train[\"IsActiveMember\"].astype(\"object\")"
   ]
  },
  {
   "cell_type": "code",
   "execution_count": 11,
   "id": "caa7e0c7-1491-4f57-b0e2-bec689472a59",
   "metadata": {},
   "outputs": [
    {
     "data": {
      "text/html": [
       "<div>\n",
       "<style scoped>\n",
       "    .dataframe tbody tr th:only-of-type {\n",
       "        vertical-align: middle;\n",
       "    }\n",
       "\n",
       "    .dataframe tbody tr th {\n",
       "        vertical-align: top;\n",
       "    }\n",
       "\n",
       "    .dataframe thead th {\n",
       "        text-align: right;\n",
       "    }\n",
       "</style>\n",
       "<table border=\"1\" class=\"dataframe\">\n",
       "  <thead>\n",
       "    <tr style=\"text-align: right;\">\n",
       "      <th></th>\n",
       "      <th>CreditScore</th>\n",
       "      <th>Age</th>\n",
       "      <th>Balance</th>\n",
       "      <th>EstimatedSalary</th>\n",
       "      <th>Exited</th>\n",
       "    </tr>\n",
       "  </thead>\n",
       "  <tbody>\n",
       "    <tr>\n",
       "      <th>count</th>\n",
       "      <td>4074.000000</td>\n",
       "      <td>4074.000000</td>\n",
       "      <td>4074.000000</td>\n",
       "      <td>4074.000000</td>\n",
       "      <td>4074.000000</td>\n",
       "    </tr>\n",
       "    <tr>\n",
       "      <th>mean</th>\n",
       "      <td>648.735886</td>\n",
       "      <td>41.172803</td>\n",
       "      <td>82134.767857</td>\n",
       "      <td>101109.714757</td>\n",
       "      <td>0.500000</td>\n",
       "    </tr>\n",
       "    <tr>\n",
       "      <th>std</th>\n",
       "      <td>97.658212</td>\n",
       "      <td>10.659983</td>\n",
       "      <td>61128.483731</td>\n",
       "      <td>57668.262362</td>\n",
       "      <td>0.500061</td>\n",
       "    </tr>\n",
       "    <tr>\n",
       "      <th>min</th>\n",
       "      <td>350.000000</td>\n",
       "      <td>18.000000</td>\n",
       "      <td>0.000000</td>\n",
       "      <td>11.580000</td>\n",
       "      <td>0.000000</td>\n",
       "    </tr>\n",
       "    <tr>\n",
       "      <th>25%</th>\n",
       "      <td>583.000000</td>\n",
       "      <td>34.000000</td>\n",
       "      <td>0.000000</td>\n",
       "      <td>52595.275000</td>\n",
       "      <td>0.000000</td>\n",
       "    </tr>\n",
       "    <tr>\n",
       "      <th>50%</th>\n",
       "      <td>649.000000</td>\n",
       "      <td>40.000000</td>\n",
       "      <td>102878.340000</td>\n",
       "      <td>100989.020000</td>\n",
       "      <td>0.500000</td>\n",
       "    </tr>\n",
       "    <tr>\n",
       "      <th>75%</th>\n",
       "      <td>717.000000</td>\n",
       "      <td>48.000000</td>\n",
       "      <td>129107.090000</td>\n",
       "      <td>151308.192500</td>\n",
       "      <td>1.000000</td>\n",
       "    </tr>\n",
       "    <tr>\n",
       "      <th>max</th>\n",
       "      <td>850.000000</td>\n",
       "      <td>92.000000</td>\n",
       "      <td>250898.090000</td>\n",
       "      <td>199909.320000</td>\n",
       "      <td>1.000000</td>\n",
       "    </tr>\n",
       "  </tbody>\n",
       "</table>\n",
       "</div>"
      ],
      "text/plain": [
       "       CreditScore          Age        Balance  EstimatedSalary       Exited\n",
       "count  4074.000000  4074.000000    4074.000000      4074.000000  4074.000000\n",
       "mean    648.735886    41.172803   82134.767857    101109.714757     0.500000\n",
       "std      97.658212    10.659983   61128.483731     57668.262362     0.500061\n",
       "min     350.000000    18.000000       0.000000        11.580000     0.000000\n",
       "25%     583.000000    34.000000       0.000000     52595.275000     0.000000\n",
       "50%     649.000000    40.000000  102878.340000    100989.020000     0.500000\n",
       "75%     717.000000    48.000000  129107.090000    151308.192500     1.000000\n",
       "max     850.000000    92.000000  250898.090000    199909.320000     1.000000"
      ]
     },
     "execution_count": 11,
     "metadata": {},
     "output_type": "execute_result"
    }
   ],
   "source": [
    "df_train.describe()"
   ]
  },
  {
   "cell_type": "code",
   "execution_count": 12,
   "id": "87c8ab8c-bc60-4e13-a753-f9147090f023",
   "metadata": {},
   "outputs": [
    {
     "data": {
      "text/html": [
       "<div>\n",
       "<style scoped>\n",
       "    .dataframe tbody tr th:only-of-type {\n",
       "        vertical-align: middle;\n",
       "    }\n",
       "\n",
       "    .dataframe tbody tr th {\n",
       "        vertical-align: top;\n",
       "    }\n",
       "\n",
       "    .dataframe thead th {\n",
       "        text-align: right;\n",
       "    }\n",
       "</style>\n",
       "<table border=\"1\" class=\"dataframe\">\n",
       "  <thead>\n",
       "    <tr style=\"text-align: right;\">\n",
       "      <th></th>\n",
       "      <th>Surname</th>\n",
       "      <th>Geography</th>\n",
       "      <th>Gender</th>\n",
       "      <th>Tenure</th>\n",
       "      <th>NumOfProducts</th>\n",
       "      <th>HasCrCard</th>\n",
       "      <th>IsActiveMember</th>\n",
       "    </tr>\n",
       "  </thead>\n",
       "  <tbody>\n",
       "    <tr>\n",
       "      <th>count</th>\n",
       "      <td>4074</td>\n",
       "      <td>4074</td>\n",
       "      <td>4074</td>\n",
       "      <td>4074</td>\n",
       "      <td>4074</td>\n",
       "      <td>4074</td>\n",
       "      <td>4074</td>\n",
       "    </tr>\n",
       "    <tr>\n",
       "      <th>unique</th>\n",
       "      <td>1760</td>\n",
       "      <td>3</td>\n",
       "      <td>2</td>\n",
       "      <td>11</td>\n",
       "      <td>4</td>\n",
       "      <td>2</td>\n",
       "      <td>2</td>\n",
       "    </tr>\n",
       "    <tr>\n",
       "      <th>top</th>\n",
       "      <td>Smith</td>\n",
       "      <td>France</td>\n",
       "      <td>Male</td>\n",
       "      <td>4</td>\n",
       "      <td>1</td>\n",
       "      <td>1</td>\n",
       "      <td>0</td>\n",
       "    </tr>\n",
       "    <tr>\n",
       "      <th>freq</th>\n",
       "      <td>18</td>\n",
       "      <td>1901</td>\n",
       "      <td>2084</td>\n",
       "      <td>432</td>\n",
       "      <td>2343</td>\n",
       "      <td>2881</td>\n",
       "      <td>2194</td>\n",
       "    </tr>\n",
       "  </tbody>\n",
       "</table>\n",
       "</div>"
      ],
      "text/plain": [
       "       Surname Geography Gender  Tenure  NumOfProducts  HasCrCard  \\\n",
       "count     4074      4074   4074    4074           4074       4074   \n",
       "unique    1760         3      2      11              4          2   \n",
       "top      Smith    France   Male       4              1          1   \n",
       "freq        18      1901   2084     432           2343       2881   \n",
       "\n",
       "        IsActiveMember  \n",
       "count             4074  \n",
       "unique               2  \n",
       "top                  0  \n",
       "freq              2194  "
      ]
     },
     "execution_count": 12,
     "metadata": {},
     "output_type": "execute_result"
    }
   ],
   "source": [
    "df_train.describe(include=\"object\")"
   ]
  },
  {
   "cell_type": "code",
   "execution_count": 13,
   "id": "f0a599d9-4a97-4240-87d6-628699bd210e",
   "metadata": {},
   "outputs": [
    {
     "data": {
      "text/plain": [
       "Geography\n",
       "France     0.426092\n",
       "Germany    0.653815\n",
       "Spain      0.445043\n",
       "Name: Exited, dtype: float64"
      ]
     },
     "execution_count": 13,
     "metadata": {},
     "output_type": "execute_result"
    }
   ],
   "source": [
    "df_train.groupby(\"Geography\").Exited.mean()"
   ]
  },
  {
   "cell_type": "code",
   "execution_count": 14,
   "id": "739d4c26-deba-4b9b-b6db-0af87fb26241",
   "metadata": {},
   "outputs": [
    {
     "data": {
      "text/plain": [
       "<Axes: xlabel='Geography', ylabel='count'>"
      ]
     },
     "execution_count": 14,
     "metadata": {},
     "output_type": "execute_result"
    },
    {
     "data": {
      "image/png": "[encoded data removed]",
      "text/plain": [
       "<Figure size 640x480 with 1 Axes>"
      ]
     },
     "metadata": {},
     "output_type": "display_data"
    }
   ],
   "source": [
    "sns.countplot(data=df_train,x=\"Geography\",hue=\"Exited\")"
   ]
  },
  {
   "cell_type": "code",
   "execution_count": 15,
   "id": "25eee81b-69f6-4b3c-b83f-d9ddae30b799",
   "metadata": {},
   "outputs": [
    {
     "data": {
      "text/plain": [
       "Gender\n",
       "Female    0.572362\n",
       "Male      0.430902\n",
       "Name: Exited, dtype: float64"
      ]
     },
     "execution_count": 15,
     "metadata": {},
     "output_type": "execute_result"
    }
   ],
   "source": [
    "df_train.groupby(\"Gender\").Exited.mean()"
   ]
  },
  {
   "cell_type": "code",
   "execution_count": 16,
   "id": "f30d73d0-a484-4f33-91ef-8248b519ca4b",
   "metadata": {},
   "outputs": [
    {
     "data": {
      "text/plain": [
       "<Axes: xlabel='Gender', ylabel='count'>"
      ]
     },
     "execution_count": 16,
     "metadata": {},
     "output_type": "execute_result"
    },
    {
     "data": {
      "image/png": "[encoded data removed]",
      "text/plain": [
       "<Figure size 640x480 with 1 Axes>"
      ]
     },
     "metadata": {},
     "output_type": "display_data"
    }
   ],
   "source": [
    "sns.countplot(data=df_train,x=\"Gender\",hue=\"Exited\")"
   ]
  },
  {
   "cell_type": "code",
   "execution_count": 17,
   "id": "ba243d01-0153-4a24-889d-76058614ab86",
   "metadata": {},
   "outputs": [
    {
     "data": {
      "text/plain": [
       "Tenure\n",
       "4     432\n",
       "2     432\n",
       "1     429\n",
       "5     423\n",
       "3     421\n",
       "9     406\n",
       "8     404\n",
       "7     385\n",
       "6     380\n",
       "10    203\n",
       "0     159\n",
       "Name: count, dtype: int64"
      ]
     },
     "execution_count": 17,
     "metadata": {},
     "output_type": "execute_result"
    }
   ],
   "source": [
    "df_train[\"Tenure\"].value_counts()"
   ]
  },
  {
   "cell_type": "code",
   "execution_count": 18,
   "id": "68b0d644-a8bc-40e2-814f-c58f98797065",
   "metadata": {},
   "outputs": [
    {
     "data": {
      "text/plain": [
       "Tenure\n",
       "0     0.597484\n",
       "1     0.540793\n",
       "2     0.465278\n",
       "3     0.505938\n",
       "4     0.469907\n",
       "5     0.494090\n",
       "6     0.515789\n",
       "7     0.459740\n",
       "8     0.487624\n",
       "9     0.524631\n",
       "10    0.497537\n",
       "Name: Exited, dtype: float64"
      ]
     },
     "execution_count": 18,
     "metadata": {},
     "output_type": "execute_result"
    }
   ],
   "source": [
    "df_train.groupby(\"Tenure\").Exited.mean()"
   ]
  },
  {
   "cell_type": "code",
   "execution_count": 19,
   "id": "dad660d3-056a-490e-b145-b3c50ad9a041",
   "metadata": {},
   "outputs": [
    {
     "data": {
      "text/plain": [
       "<Axes: xlabel='Tenure', ylabel='count'>"
      ]
     },
     "execution_count": 19,
     "metadata": {},
     "output_type": "execute_result"
    },
    {
     "data": {
      "image/png": "[encoded data removed]",
      "text/plain": [
       "<Figure size 1000x600 with 1 Axes>"
      ]
     },
     "metadata": {},
     "output_type": "display_data"
    }
   ],
   "source": [
    "plt.figure(figsize=(10,6))\n",
    "sns.countplot(data=df_train,x=\"Tenure\",hue=\"Exited\")"
   ]
  },
  {
   "cell_type": "code",
   "execution_count": 20,
   "id": "b24a2cb4-7706-4309-be99-4b6e64cb99f0",
   "metadata": {},
   "outputs": [
    {
     "data": {
      "text/plain": [
       "NumOfProducts\n",
       "1    0.601366\n",
       "2    0.242340\n",
       "3    0.936170\n",
       "4    1.000000\n",
       "Name: Exited, dtype: float64"
      ]
     },
     "execution_count": 20,
     "metadata": {},
     "output_type": "execute_result"
    }
   ],
   "source": [
    "df_train.groupby(\"NumOfProducts\").Exited.mean()"
   ]
  },
  {
   "cell_type": "code",
   "execution_count": 21,
   "id": "f9dd4365-e637-4ef9-beda-9d69721c5e88",
   "metadata": {},
   "outputs": [
    {
     "data": {
      "text/plain": [
       "<Axes: xlabel='NumOfProducts', ylabel='count'>"
      ]
     },
     "execution_count": 21,
     "metadata": {},
     "output_type": "execute_result"
    },
    {
     "data": {
      "image/png": "[encoded data removed]",
      "text/plain": [
       "<Figure size 640x480 with 1 Axes>"
      ]
     },
     "metadata": {},
     "output_type": "display_data"
    }
   ],
   "source": [
    "sns.countplot(data=df_train,x=\"NumOfProducts\",hue=\"Exited\")"
   ]
  },
  {
   "cell_type": "code",
   "execution_count": 22,
   "id": "d2a9b20b-341b-4b59-914d-ae124cc9490b",
   "metadata": {},
   "outputs": [
    {
     "data": {
      "text/plain": [
       "NumOfProducts\n",
       "1    2343\n",
       "2    1436\n",
       "3     235\n",
       "4      60\n",
       "Name: count, dtype: int64"
      ]
     },
     "execution_count": 22,
     "metadata": {},
     "output_type": "execute_result"
    }
   ],
   "source": [
    "df_train[\"NumOfProducts\"].value_counts()"
   ]
  },
  {
   "cell_type": "code",
   "execution_count": 23,
   "id": "ecd8de25-50ec-4e2c-a77c-9203864c2ddc",
   "metadata": {
    "scrolled": true
   },
   "outputs": [
    {
     "data": {
      "text/html": [
       "<div>\n",
       "<style scoped>\n",
       "    .dataframe tbody tr th:only-of-type {\n",
       "        vertical-align: middle;\n",
       "    }\n",
       "\n",
       "    .dataframe tbody tr th {\n",
       "        vertical-align: top;\n",
       "    }\n",
       "\n",
       "    .dataframe thead th {\n",
       "        text-align: right;\n",
       "    }\n",
       "</style>\n",
       "<table border=\"1\" class=\"dataframe\">\n",
       "  <thead>\n",
       "    <tr style=\"text-align: right;\">\n",
       "      <th></th>\n",
       "      <th>Surname</th>\n",
       "      <th>CreditScore</th>\n",
       "      <th>Geography</th>\n",
       "      <th>Gender</th>\n",
       "      <th>Age</th>\n",
       "      <th>Tenure</th>\n",
       "      <th>Balance</th>\n",
       "      <th>NumOfProducts</th>\n",
       "      <th>HasCrCard</th>\n",
       "      <th>IsActiveMember</th>\n",
       "      <th>EstimatedSalary</th>\n",
       "      <th>Exited</th>\n",
       "    </tr>\n",
       "  </thead>\n",
       "  <tbody>\n",
       "    <tr>\n",
       "      <th>7</th>\n",
       "      <td>Obinna</td>\n",
       "      <td>376</td>\n",
       "      <td>Germany</td>\n",
       "      <td>Female</td>\n",
       "      <td>29</td>\n",
       "      <td>4</td>\n",
       "      <td>115046.74</td>\n",
       "      <td>4</td>\n",
       "      <td>1</td>\n",
       "      <td>0</td>\n",
       "      <td>119346.88</td>\n",
       "      <td>1</td>\n",
       "    </tr>\n",
       "    <tr>\n",
       "      <th>70</th>\n",
       "      <td>Konovalova</td>\n",
       "      <td>738</td>\n",
       "      <td>Germany</td>\n",
       "      <td>Male</td>\n",
       "      <td>58</td>\n",
       "      <td>2</td>\n",
       "      <td>133745.44</td>\n",
       "      <td>4</td>\n",
       "      <td>1</td>\n",
       "      <td>0</td>\n",
       "      <td>28373.86</td>\n",
       "      <td>1</td>\n",
       "    </tr>\n",
       "    <tr>\n",
       "      <th>1254</th>\n",
       "      <td>Dumetolisa</td>\n",
       "      <td>628</td>\n",
       "      <td>France</td>\n",
       "      <td>Female</td>\n",
       "      <td>46</td>\n",
       "      <td>1</td>\n",
       "      <td>46870.43</td>\n",
       "      <td>4</td>\n",
       "      <td>1</td>\n",
       "      <td>0</td>\n",
       "      <td>31272.14</td>\n",
       "      <td>1</td>\n",
       "    </tr>\n",
       "    <tr>\n",
       "      <th>1469</th>\n",
       "      <td>Wright</td>\n",
       "      <td>819</td>\n",
       "      <td>Germany</td>\n",
       "      <td>Female</td>\n",
       "      <td>49</td>\n",
       "      <td>1</td>\n",
       "      <td>120656.86</td>\n",
       "      <td>4</td>\n",
       "      <td>0</td>\n",
       "      <td>0</td>\n",
       "      <td>166164.30</td>\n",
       "      <td>1</td>\n",
       "    </tr>\n",
       "    <tr>\n",
       "      <th>1488</th>\n",
       "      <td>Kornilova</td>\n",
       "      <td>596</td>\n",
       "      <td>Spain</td>\n",
       "      <td>Male</td>\n",
       "      <td>30</td>\n",
       "      <td>6</td>\n",
       "      <td>121345.88</td>\n",
       "      <td>4</td>\n",
       "      <td>1</td>\n",
       "      <td>0</td>\n",
       "      <td>41921.75</td>\n",
       "      <td>1</td>\n",
       "    </tr>\n",
       "    <tr>\n",
       "      <th>1701</th>\n",
       "      <td>Francis</td>\n",
       "      <td>792</td>\n",
       "      <td>France</td>\n",
       "      <td>Male</td>\n",
       "      <td>50</td>\n",
       "      <td>9</td>\n",
       "      <td>0.00</td>\n",
       "      <td>4</td>\n",
       "      <td>1</td>\n",
       "      <td>1</td>\n",
       "      <td>194700.81</td>\n",
       "      <td>1</td>\n",
       "    </tr>\n",
       "    <tr>\n",
       "      <th>1876</th>\n",
       "      <td>Steele</td>\n",
       "      <td>640</td>\n",
       "      <td>Germany</td>\n",
       "      <td>Male</td>\n",
       "      <td>39</td>\n",
       "      <td>9</td>\n",
       "      <td>131607.28</td>\n",
       "      <td>4</td>\n",
       "      <td>0</td>\n",
       "      <td>1</td>\n",
       "      <td>6981.43</td>\n",
       "      <td>1</td>\n",
       "    </tr>\n",
       "    <tr>\n",
       "      <th>2124</th>\n",
       "      <td>Galkin</td>\n",
       "      <td>704</td>\n",
       "      <td>France</td>\n",
       "      <td>Male</td>\n",
       "      <td>32</td>\n",
       "      <td>7</td>\n",
       "      <td>127785.17</td>\n",
       "      <td>4</td>\n",
       "      <td>0</td>\n",
       "      <td>0</td>\n",
       "      <td>184464.70</td>\n",
       "      <td>1</td>\n",
       "    </tr>\n",
       "    <tr>\n",
       "      <th>2196</th>\n",
       "      <td>Ugochukwutubelum</td>\n",
       "      <td>773</td>\n",
       "      <td>Germany</td>\n",
       "      <td>Male</td>\n",
       "      <td>47</td>\n",
       "      <td>2</td>\n",
       "      <td>118079.47</td>\n",
       "      <td>4</td>\n",
       "      <td>1</td>\n",
       "      <td>1</td>\n",
       "      <td>143007.49</td>\n",
       "      <td>1</td>\n",
       "    </tr>\n",
       "    <tr>\n",
       "      <th>2285</th>\n",
       "      <td>Ramos</td>\n",
       "      <td>630</td>\n",
       "      <td>Germany</td>\n",
       "      <td>Male</td>\n",
       "      <td>50</td>\n",
       "      <td>3</td>\n",
       "      <td>129370.91</td>\n",
       "      <td>4</td>\n",
       "      <td>1</td>\n",
       "      <td>1</td>\n",
       "      <td>47775.34</td>\n",
       "      <td>1</td>\n",
       "    </tr>\n",
       "    <tr>\n",
       "      <th>2462</th>\n",
       "      <td>Fleming</td>\n",
       "      <td>672</td>\n",
       "      <td>France</td>\n",
       "      <td>Female</td>\n",
       "      <td>53</td>\n",
       "      <td>9</td>\n",
       "      <td>169406.33</td>\n",
       "      <td>4</td>\n",
       "      <td>1</td>\n",
       "      <td>1</td>\n",
       "      <td>147311.47</td>\n",
       "      <td>1</td>\n",
       "    </tr>\n",
       "    <tr>\n",
       "      <th>2499</th>\n",
       "      <td>Seppelt</td>\n",
       "      <td>614</td>\n",
       "      <td>France</td>\n",
       "      <td>Female</td>\n",
       "      <td>37</td>\n",
       "      <td>8</td>\n",
       "      <td>75150.34</td>\n",
       "      <td>4</td>\n",
       "      <td>0</td>\n",
       "      <td>1</td>\n",
       "      <td>131766.67</td>\n",
       "      <td>1</td>\n",
       "    </tr>\n",
       "    <tr>\n",
       "      <th>2509</th>\n",
       "      <td>Gibbs</td>\n",
       "      <td>655</td>\n",
       "      <td>France</td>\n",
       "      <td>Female</td>\n",
       "      <td>50</td>\n",
       "      <td>10</td>\n",
       "      <td>0.00</td>\n",
       "      <td>4</td>\n",
       "      <td>1</td>\n",
       "      <td>0</td>\n",
       "      <td>179267.94</td>\n",
       "      <td>1</td>\n",
       "    </tr>\n",
       "    <tr>\n",
       "      <th>2541</th>\n",
       "      <td>Smith</td>\n",
       "      <td>611</td>\n",
       "      <td>France</td>\n",
       "      <td>Female</td>\n",
       "      <td>61</td>\n",
       "      <td>3</td>\n",
       "      <td>131583.59</td>\n",
       "      <td>4</td>\n",
       "      <td>0</td>\n",
       "      <td>1</td>\n",
       "      <td>66238.23</td>\n",
       "      <td>1</td>\n",
       "    </tr>\n",
       "    <tr>\n",
       "      <th>2614</th>\n",
       "      <td>Chibueze</td>\n",
       "      <td>546</td>\n",
       "      <td>Germany</td>\n",
       "      <td>Female</td>\n",
       "      <td>58</td>\n",
       "      <td>3</td>\n",
       "      <td>106458.31</td>\n",
       "      <td>4</td>\n",
       "      <td>1</td>\n",
       "      <td>0</td>\n",
       "      <td>128881.87</td>\n",
       "      <td>1</td>\n",
       "    </tr>\n",
       "    <tr>\n",
       "      <th>2617</th>\n",
       "      <td>Kuo</td>\n",
       "      <td>692</td>\n",
       "      <td>Germany</td>\n",
       "      <td>Male</td>\n",
       "      <td>45</td>\n",
       "      <td>6</td>\n",
       "      <td>152296.83</td>\n",
       "      <td>4</td>\n",
       "      <td>0</td>\n",
       "      <td>1</td>\n",
       "      <td>108040.86</td>\n",
       "      <td>1</td>\n",
       "    </tr>\n",
       "    <tr>\n",
       "      <th>2872</th>\n",
       "      <td>Castiglione</td>\n",
       "      <td>439</td>\n",
       "      <td>Spain</td>\n",
       "      <td>Male</td>\n",
       "      <td>52</td>\n",
       "      <td>3</td>\n",
       "      <td>96196.24</td>\n",
       "      <td>4</td>\n",
       "      <td>1</td>\n",
       "      <td>0</td>\n",
       "      <td>198874.52</td>\n",
       "      <td>1</td>\n",
       "    </tr>\n",
       "    <tr>\n",
       "      <th>3152</th>\n",
       "      <td>Sutton</td>\n",
       "      <td>644</td>\n",
       "      <td>France</td>\n",
       "      <td>Female</td>\n",
       "      <td>40</td>\n",
       "      <td>9</td>\n",
       "      <td>137285.26</td>\n",
       "      <td>4</td>\n",
       "      <td>1</td>\n",
       "      <td>0</td>\n",
       "      <td>77063.63</td>\n",
       "      <td>1</td>\n",
       "    </tr>\n",
       "    <tr>\n",
       "      <th>3365</th>\n",
       "      <td>Chinwenma</td>\n",
       "      <td>671</td>\n",
       "      <td>Spain</td>\n",
       "      <td>Female</td>\n",
       "      <td>34</td>\n",
       "      <td>5</td>\n",
       "      <td>130929.02</td>\n",
       "      <td>4</td>\n",
       "      <td>1</td>\n",
       "      <td>1</td>\n",
       "      <td>28238.25</td>\n",
       "      <td>1</td>\n",
       "    </tr>\n",
       "    <tr>\n",
       "      <th>3841</th>\n",
       "      <td>Ponomarev</td>\n",
       "      <td>653</td>\n",
       "      <td>France</td>\n",
       "      <td>Female</td>\n",
       "      <td>60</td>\n",
       "      <td>2</td>\n",
       "      <td>120731.39</td>\n",
       "      <td>4</td>\n",
       "      <td>1</td>\n",
       "      <td>1</td>\n",
       "      <td>138160.11</td>\n",
       "      <td>1</td>\n",
       "    </tr>\n",
       "    <tr>\n",
       "      <th>4013</th>\n",
       "      <td>Salier</td>\n",
       "      <td>720</td>\n",
       "      <td>Germany</td>\n",
       "      <td>Female</td>\n",
       "      <td>57</td>\n",
       "      <td>1</td>\n",
       "      <td>162082.31</td>\n",
       "      <td>4</td>\n",
       "      <td>0</td>\n",
       "      <td>0</td>\n",
       "      <td>27145.73</td>\n",
       "      <td>1</td>\n",
       "    </tr>\n",
       "    <tr>\n",
       "      <th>4014</th>\n",
       "      <td>Evdokimov</td>\n",
       "      <td>641</td>\n",
       "      <td>Germany</td>\n",
       "      <td>Female</td>\n",
       "      <td>51</td>\n",
       "      <td>2</td>\n",
       "      <td>117306.69</td>\n",
       "      <td>4</td>\n",
       "      <td>1</td>\n",
       "      <td>1</td>\n",
       "      <td>26912.72</td>\n",
       "      <td>1</td>\n",
       "    </tr>\n",
       "    <tr>\n",
       "      <th>4166</th>\n",
       "      <td>Ma</td>\n",
       "      <td>850</td>\n",
       "      <td>Spain</td>\n",
       "      <td>Female</td>\n",
       "      <td>45</td>\n",
       "      <td>5</td>\n",
       "      <td>174088.30</td>\n",
       "      <td>4</td>\n",
       "      <td>1</td>\n",
       "      <td>0</td>\n",
       "      <td>5669.31</td>\n",
       "      <td>1</td>\n",
       "    </tr>\n",
       "    <tr>\n",
       "      <th>4260</th>\n",
       "      <td>Hughes</td>\n",
       "      <td>587</td>\n",
       "      <td>France</td>\n",
       "      <td>Male</td>\n",
       "      <td>40</td>\n",
       "      <td>2</td>\n",
       "      <td>0.00</td>\n",
       "      <td>4</td>\n",
       "      <td>0</td>\n",
       "      <td>1</td>\n",
       "      <td>106174.70</td>\n",
       "      <td>1</td>\n",
       "    </tr>\n",
       "    <tr>\n",
       "      <th>4403</th>\n",
       "      <td>Bonwick</td>\n",
       "      <td>602</td>\n",
       "      <td>Germany</td>\n",
       "      <td>Female</td>\n",
       "      <td>43</td>\n",
       "      <td>2</td>\n",
       "      <td>113641.49</td>\n",
       "      <td>4</td>\n",
       "      <td>1</td>\n",
       "      <td>0</td>\n",
       "      <td>115116.35</td>\n",
       "      <td>1</td>\n",
       "    </tr>\n",
       "    <tr>\n",
       "      <th>4511</th>\n",
       "      <td>Ukaegbunam</td>\n",
       "      <td>634</td>\n",
       "      <td>France</td>\n",
       "      <td>Female</td>\n",
       "      <td>45</td>\n",
       "      <td>2</td>\n",
       "      <td>0.00</td>\n",
       "      <td>4</td>\n",
       "      <td>1</td>\n",
       "      <td>0</td>\n",
       "      <td>101039.53</td>\n",
       "      <td>1</td>\n",
       "    </tr>\n",
       "    <tr>\n",
       "      <th>4516</th>\n",
       "      <td>Yashina</td>\n",
       "      <td>497</td>\n",
       "      <td>Germany</td>\n",
       "      <td>Female</td>\n",
       "      <td>32</td>\n",
       "      <td>8</td>\n",
       "      <td>111537.23</td>\n",
       "      <td>4</td>\n",
       "      <td>1</td>\n",
       "      <td>1</td>\n",
       "      <td>9497.99</td>\n",
       "      <td>1</td>\n",
       "    </tr>\n",
       "    <tr>\n",
       "      <th>4606</th>\n",
       "      <td>Allan</td>\n",
       "      <td>797</td>\n",
       "      <td>France</td>\n",
       "      <td>Female</td>\n",
       "      <td>55</td>\n",
       "      <td>10</td>\n",
       "      <td>0.00</td>\n",
       "      <td>4</td>\n",
       "      <td>1</td>\n",
       "      <td>1</td>\n",
       "      <td>49418.87</td>\n",
       "      <td>1</td>\n",
       "    </tr>\n",
       "    <tr>\n",
       "      <th>4654</th>\n",
       "      <td>Swanson</td>\n",
       "      <td>578</td>\n",
       "      <td>Germany</td>\n",
       "      <td>Female</td>\n",
       "      <td>31</td>\n",
       "      <td>5</td>\n",
       "      <td>102088.68</td>\n",
       "      <td>4</td>\n",
       "      <td>0</td>\n",
       "      <td>0</td>\n",
       "      <td>187866.21</td>\n",
       "      <td>1</td>\n",
       "    </tr>\n",
       "    <tr>\n",
       "      <th>4748</th>\n",
       "      <td>Bromby</td>\n",
       "      <td>537</td>\n",
       "      <td>Germany</td>\n",
       "      <td>Female</td>\n",
       "      <td>37</td>\n",
       "      <td>7</td>\n",
       "      <td>158411.95</td>\n",
       "      <td>4</td>\n",
       "      <td>1</td>\n",
       "      <td>1</td>\n",
       "      <td>117690.58</td>\n",
       "      <td>1</td>\n",
       "    </tr>\n",
       "    <tr>\n",
       "      <th>4822</th>\n",
       "      <td>Murphy</td>\n",
       "      <td>745</td>\n",
       "      <td>France</td>\n",
       "      <td>Female</td>\n",
       "      <td>32</td>\n",
       "      <td>2</td>\n",
       "      <td>0.00</td>\n",
       "      <td>4</td>\n",
       "      <td>0</td>\n",
       "      <td>1</td>\n",
       "      <td>179705.13</td>\n",
       "      <td>1</td>\n",
       "    </tr>\n",
       "    <tr>\n",
       "      <th>5010</th>\n",
       "      <td>Davis</td>\n",
       "      <td>575</td>\n",
       "      <td>Germany</td>\n",
       "      <td>Male</td>\n",
       "      <td>49</td>\n",
       "      <td>7</td>\n",
       "      <td>121205.15</td>\n",
       "      <td>4</td>\n",
       "      <td>1</td>\n",
       "      <td>1</td>\n",
       "      <td>168080.53</td>\n",
       "      <td>1</td>\n",
       "    </tr>\n",
       "    <tr>\n",
       "      <th>5137</th>\n",
       "      <td>Ifeanacho</td>\n",
       "      <td>698</td>\n",
       "      <td>France</td>\n",
       "      <td>Female</td>\n",
       "      <td>51</td>\n",
       "      <td>6</td>\n",
       "      <td>144237.91</td>\n",
       "      <td>4</td>\n",
       "      <td>1</td>\n",
       "      <td>0</td>\n",
       "      <td>157143.61</td>\n",
       "      <td>1</td>\n",
       "    </tr>\n",
       "    <tr>\n",
       "      <th>5235</th>\n",
       "      <td>Munro</td>\n",
       "      <td>645</td>\n",
       "      <td>France</td>\n",
       "      <td>Female</td>\n",
       "      <td>68</td>\n",
       "      <td>9</td>\n",
       "      <td>0.00</td>\n",
       "      <td>4</td>\n",
       "      <td>1</td>\n",
       "      <td>1</td>\n",
       "      <td>176353.87</td>\n",
       "      <td>1</td>\n",
       "    </tr>\n",
       "    <tr>\n",
       "      <th>5386</th>\n",
       "      <td>Gardiner</td>\n",
       "      <td>642</td>\n",
       "      <td>France</td>\n",
       "      <td>Male</td>\n",
       "      <td>48</td>\n",
       "      <td>9</td>\n",
       "      <td>118317.27</td>\n",
       "      <td>4</td>\n",
       "      <td>0</td>\n",
       "      <td>0</td>\n",
       "      <td>78702.98</td>\n",
       "      <td>1</td>\n",
       "    </tr>\n",
       "    <tr>\n",
       "      <th>5700</th>\n",
       "      <td>Perreault</td>\n",
       "      <td>447</td>\n",
       "      <td>France</td>\n",
       "      <td>Male</td>\n",
       "      <td>41</td>\n",
       "      <td>3</td>\n",
       "      <td>0.00</td>\n",
       "      <td>4</td>\n",
       "      <td>1</td>\n",
       "      <td>1</td>\n",
       "      <td>197490.39</td>\n",
       "      <td>1</td>\n",
       "    </tr>\n",
       "    <tr>\n",
       "      <th>5904</th>\n",
       "      <td>Balsillie</td>\n",
       "      <td>692</td>\n",
       "      <td>Germany</td>\n",
       "      <td>Male</td>\n",
       "      <td>45</td>\n",
       "      <td>6</td>\n",
       "      <td>142084.04</td>\n",
       "      <td>4</td>\n",
       "      <td>1</td>\n",
       "      <td>0</td>\n",
       "      <td>188305.85</td>\n",
       "      <td>1</td>\n",
       "    </tr>\n",
       "    <tr>\n",
       "      <th>6150</th>\n",
       "      <td>Maclean</td>\n",
       "      <td>632</td>\n",
       "      <td>Germany</td>\n",
       "      <td>Male</td>\n",
       "      <td>41</td>\n",
       "      <td>8</td>\n",
       "      <td>127205.32</td>\n",
       "      <td>4</td>\n",
       "      <td>1</td>\n",
       "      <td>0</td>\n",
       "      <td>93874.87</td>\n",
       "      <td>1</td>\n",
       "    </tr>\n",
       "    <tr>\n",
       "      <th>6172</th>\n",
       "      <td>Day</td>\n",
       "      <td>568</td>\n",
       "      <td>Germany</td>\n",
       "      <td>Male</td>\n",
       "      <td>43</td>\n",
       "      <td>5</td>\n",
       "      <td>87612.64</td>\n",
       "      <td>4</td>\n",
       "      <td>1</td>\n",
       "      <td>1</td>\n",
       "      <td>107155.40</td>\n",
       "      <td>1</td>\n",
       "    </tr>\n",
       "    <tr>\n",
       "      <th>6279</th>\n",
       "      <td>Chiemenam</td>\n",
       "      <td>757</td>\n",
       "      <td>Spain</td>\n",
       "      <td>Female</td>\n",
       "      <td>55</td>\n",
       "      <td>9</td>\n",
       "      <td>117294.12</td>\n",
       "      <td>4</td>\n",
       "      <td>1</td>\n",
       "      <td>0</td>\n",
       "      <td>94187.47</td>\n",
       "      <td>1</td>\n",
       "    </tr>\n",
       "    <tr>\n",
       "      <th>6750</th>\n",
       "      <td>Riley</td>\n",
       "      <td>618</td>\n",
       "      <td>France</td>\n",
       "      <td>Female</td>\n",
       "      <td>42</td>\n",
       "      <td>2</td>\n",
       "      <td>0.00</td>\n",
       "      <td>4</td>\n",
       "      <td>0</td>\n",
       "      <td>0</td>\n",
       "      <td>111097.39</td>\n",
       "      <td>1</td>\n",
       "    </tr>\n",
       "    <tr>\n",
       "      <th>6875</th>\n",
       "      <td>Brookes</td>\n",
       "      <td>610</td>\n",
       "      <td>France</td>\n",
       "      <td>Female</td>\n",
       "      <td>57</td>\n",
       "      <td>7</td>\n",
       "      <td>72092.95</td>\n",
       "      <td>4</td>\n",
       "      <td>0</td>\n",
       "      <td>1</td>\n",
       "      <td>113228.82</td>\n",
       "      <td>1</td>\n",
       "    </tr>\n",
       "    <tr>\n",
       "      <th>7257</th>\n",
       "      <td>Voronoff</td>\n",
       "      <td>747</td>\n",
       "      <td>France</td>\n",
       "      <td>Female</td>\n",
       "      <td>47</td>\n",
       "      <td>5</td>\n",
       "      <td>139914.60</td>\n",
       "      <td>4</td>\n",
       "      <td>0</td>\n",
       "      <td>1</td>\n",
       "      <td>129964.56</td>\n",
       "      <td>1</td>\n",
       "    </tr>\n",
       "    <tr>\n",
       "      <th>7457</th>\n",
       "      <td>Galgano</td>\n",
       "      <td>665</td>\n",
       "      <td>Germany</td>\n",
       "      <td>Female</td>\n",
       "      <td>43</td>\n",
       "      <td>2</td>\n",
       "      <td>116322.27</td>\n",
       "      <td>4</td>\n",
       "      <td>1</td>\n",
       "      <td>0</td>\n",
       "      <td>35640.12</td>\n",
       "      <td>1</td>\n",
       "    </tr>\n",
       "    <tr>\n",
       "      <th>7567</th>\n",
       "      <td>Chidiebere</td>\n",
       "      <td>629</td>\n",
       "      <td>France</td>\n",
       "      <td>Male</td>\n",
       "      <td>44</td>\n",
       "      <td>5</td>\n",
       "      <td>0.00</td>\n",
       "      <td>4</td>\n",
       "      <td>0</td>\n",
       "      <td>0</td>\n",
       "      <td>117572.59</td>\n",
       "      <td>1</td>\n",
       "    </tr>\n",
       "    <tr>\n",
       "      <th>7698</th>\n",
       "      <td>Dawkins</td>\n",
       "      <td>592</td>\n",
       "      <td>France</td>\n",
       "      <td>Male</td>\n",
       "      <td>60</td>\n",
       "      <td>9</td>\n",
       "      <td>0.00</td>\n",
       "      <td>4</td>\n",
       "      <td>1</td>\n",
       "      <td>1</td>\n",
       "      <td>13614.01</td>\n",
       "      <td>1</td>\n",
       "    </tr>\n",
       "    <tr>\n",
       "      <th>7724</th>\n",
       "      <td>Oluchukwu</td>\n",
       "      <td>842</td>\n",
       "      <td>France</td>\n",
       "      <td>Male</td>\n",
       "      <td>44</td>\n",
       "      <td>3</td>\n",
       "      <td>141252.18</td>\n",
       "      <td>4</td>\n",
       "      <td>0</td>\n",
       "      <td>1</td>\n",
       "      <td>128521.16</td>\n",
       "      <td>1</td>\n",
       "    </tr>\n",
       "    <tr>\n",
       "      <th>7729</th>\n",
       "      <td>Yen</td>\n",
       "      <td>850</td>\n",
       "      <td>France</td>\n",
       "      <td>Female</td>\n",
       "      <td>35</td>\n",
       "      <td>2</td>\n",
       "      <td>128548.49</td>\n",
       "      <td>4</td>\n",
       "      <td>1</td>\n",
       "      <td>0</td>\n",
       "      <td>75478.95</td>\n",
       "      <td>1</td>\n",
       "    </tr>\n",
       "    <tr>\n",
       "      <th>8041</th>\n",
       "      <td>Fanucci</td>\n",
       "      <td>698</td>\n",
       "      <td>Spain</td>\n",
       "      <td>Female</td>\n",
       "      <td>50</td>\n",
       "      <td>1</td>\n",
       "      <td>0.00</td>\n",
       "      <td>4</td>\n",
       "      <td>1</td>\n",
       "      <td>0</td>\n",
       "      <td>88566.90</td>\n",
       "      <td>1</td>\n",
       "    </tr>\n",
       "    <tr>\n",
       "      <th>8590</th>\n",
       "      <td>Osborne</td>\n",
       "      <td>771</td>\n",
       "      <td>France</td>\n",
       "      <td>Female</td>\n",
       "      <td>41</td>\n",
       "      <td>10</td>\n",
       "      <td>108309.00</td>\n",
       "      <td>4</td>\n",
       "      <td>1</td>\n",
       "      <td>1</td>\n",
       "      <td>137510.41</td>\n",
       "      <td>1</td>\n",
       "    </tr>\n",
       "    <tr>\n",
       "      <th>8683</th>\n",
       "      <td>Christopher</td>\n",
       "      <td>697</td>\n",
       "      <td>France</td>\n",
       "      <td>Female</td>\n",
       "      <td>49</td>\n",
       "      <td>7</td>\n",
       "      <td>195238.29</td>\n",
       "      <td>4</td>\n",
       "      <td>0</td>\n",
       "      <td>1</td>\n",
       "      <td>131083.56</td>\n",
       "      <td>1</td>\n",
       "    </tr>\n",
       "    <tr>\n",
       "      <th>8850</th>\n",
       "      <td>Fiorentini</td>\n",
       "      <td>500</td>\n",
       "      <td>Spain</td>\n",
       "      <td>Female</td>\n",
       "      <td>50</td>\n",
       "      <td>5</td>\n",
       "      <td>0.00</td>\n",
       "      <td>4</td>\n",
       "      <td>1</td>\n",
       "      <td>1</td>\n",
       "      <td>83866.35</td>\n",
       "      <td>1</td>\n",
       "    </tr>\n",
       "    <tr>\n",
       "      <th>8923</th>\n",
       "      <td>Burlingame</td>\n",
       "      <td>625</td>\n",
       "      <td>Germany</td>\n",
       "      <td>Female</td>\n",
       "      <td>55</td>\n",
       "      <td>8</td>\n",
       "      <td>118772.71</td>\n",
       "      <td>4</td>\n",
       "      <td>0</td>\n",
       "      <td>0</td>\n",
       "      <td>135853.62</td>\n",
       "      <td>1</td>\n",
       "    </tr>\n",
       "    <tr>\n",
       "      <th>9215</th>\n",
       "      <td>Genovesi</td>\n",
       "      <td>584</td>\n",
       "      <td>Germany</td>\n",
       "      <td>Female</td>\n",
       "      <td>37</td>\n",
       "      <td>10</td>\n",
       "      <td>134171.80</td>\n",
       "      <td>4</td>\n",
       "      <td>1</td>\n",
       "      <td>1</td>\n",
       "      <td>70927.11</td>\n",
       "      <td>1</td>\n",
       "    </tr>\n",
       "    <tr>\n",
       "      <th>9255</th>\n",
       "      <td>Rapuluchukwu</td>\n",
       "      <td>847</td>\n",
       "      <td>Germany</td>\n",
       "      <td>Female</td>\n",
       "      <td>41</td>\n",
       "      <td>3</td>\n",
       "      <td>101543.51</td>\n",
       "      <td>4</td>\n",
       "      <td>1</td>\n",
       "      <td>0</td>\n",
       "      <td>16025.17</td>\n",
       "      <td>1</td>\n",
       "    </tr>\n",
       "    <tr>\n",
       "      <th>9323</th>\n",
       "      <td>Kennedy</td>\n",
       "      <td>644</td>\n",
       "      <td>France</td>\n",
       "      <td>Male</td>\n",
       "      <td>50</td>\n",
       "      <td>9</td>\n",
       "      <td>76817.00</td>\n",
       "      <td>4</td>\n",
       "      <td>1</td>\n",
       "      <td>0</td>\n",
       "      <td>196371.13</td>\n",
       "      <td>1</td>\n",
       "    </tr>\n",
       "    <tr>\n",
       "      <th>9370</th>\n",
       "      <td>Cheng</td>\n",
       "      <td>561</td>\n",
       "      <td>France</td>\n",
       "      <td>Male</td>\n",
       "      <td>43</td>\n",
       "      <td>4</td>\n",
       "      <td>0.00</td>\n",
       "      <td>4</td>\n",
       "      <td>0</td>\n",
       "      <td>0</td>\n",
       "      <td>18522.91</td>\n",
       "      <td>1</td>\n",
       "    </tr>\n",
       "    <tr>\n",
       "      <th>9411</th>\n",
       "      <td>Forbes</td>\n",
       "      <td>689</td>\n",
       "      <td>Germany</td>\n",
       "      <td>Female</td>\n",
       "      <td>40</td>\n",
       "      <td>4</td>\n",
       "      <td>78119.59</td>\n",
       "      <td>4</td>\n",
       "      <td>1</td>\n",
       "      <td>0</td>\n",
       "      <td>119259.34</td>\n",
       "      <td>1</td>\n",
       "    </tr>\n",
       "    <tr>\n",
       "      <th>9540</th>\n",
       "      <td>Williamson</td>\n",
       "      <td>727</td>\n",
       "      <td>Germany</td>\n",
       "      <td>Male</td>\n",
       "      <td>46</td>\n",
       "      <td>3</td>\n",
       "      <td>115248.11</td>\n",
       "      <td>4</td>\n",
       "      <td>1</td>\n",
       "      <td>0</td>\n",
       "      <td>130752.01</td>\n",
       "      <td>1</td>\n",
       "    </tr>\n",
       "    <tr>\n",
       "      <th>9565</th>\n",
       "      <td>Long</td>\n",
       "      <td>582</td>\n",
       "      <td>France</td>\n",
       "      <td>Female</td>\n",
       "      <td>38</td>\n",
       "      <td>9</td>\n",
       "      <td>135979.01</td>\n",
       "      <td>4</td>\n",
       "      <td>1</td>\n",
       "      <td>1</td>\n",
       "      <td>76582.95</td>\n",
       "      <td>1</td>\n",
       "    </tr>\n",
       "  </tbody>\n",
       "</table>\n",
       "</div>"
      ],
      "text/plain": [
       "               Surname  CreditScore Geography  Gender  Age Tenure    Balance  \\\n",
       "7               Obinna          376   Germany  Female   29      4  115046.74   \n",
       "70          Konovalova          738   Germany    Male   58      2  133745.44   \n",
       "1254        Dumetolisa          628    France  Female   46      1   46870.43   \n",
       "1469            Wright          819   Germany  Female   49      1  120656.86   \n",
       "1488         Kornilova          596     Spain    Male   30      6  121345.88   \n",
       "1701           Francis          792    France    Male   50      9       0.00   \n",
       "1876            Steele          640   Germany    Male   39      9  131607.28   \n",
       "2124            Galkin          704    France    Male   32      7  127785.17   \n",
       "2196  Ugochukwutubelum          773   Germany    Male   47      2  118079.47   \n",
       "2285             Ramos          630   Germany    Male   50      3  129370.91   \n",
       "2462           Fleming          672    France  Female   53      9  169406.33   \n",
       "2499           Seppelt          614    France  Female   37      8   75150.34   \n",
       "2509             Gibbs          655    France  Female   50     10       0.00   \n",
       "2541             Smith          611    France  Female   61      3  131583.59   \n",
       "2614          Chibueze          546   Germany  Female   58      3  106458.31   \n",
       "2617               Kuo          692   Germany    Male   45      6  152296.83   \n",
       "2872       Castiglione          439     Spain    Male   52      3   96196.24   \n",
       "3152            Sutton          644    France  Female   40      9  137285.26   \n",
       "3365         Chinwenma          671     Spain  Female   34      5  130929.02   \n",
       "3841         Ponomarev          653    France  Female   60      2  120731.39   \n",
       "4013            Salier          720   Germany  Female   57      1  162082.31   \n",
       "4014         Evdokimov          641   Germany  Female   51      2  117306.69   \n",
       "4166                Ma          850     Spain  Female   45      5  174088.30   \n",
       "4260            Hughes          587    France    Male   40      2       0.00   \n",
       "4403           Bonwick          602   Germany  Female   43      2  113641.49   \n",
       "4511        Ukaegbunam          634    France  Female   45      2       0.00   \n",
       "4516           Yashina          497   Germany  Female   32      8  111537.23   \n",
       "4606             Allan          797    France  Female   55     10       0.00   \n",
       "4654           Swanson          578   Germany  Female   31      5  102088.68   \n",
       "4748            Bromby          537   Germany  Female   37      7  158411.95   \n",
       "4822            Murphy          745    France  Female   32      2       0.00   \n",
       "5010             Davis          575   Germany    Male   49      7  121205.15   \n",
       "5137         Ifeanacho          698    France  Female   51      6  144237.91   \n",
       "5235             Munro          645    France  Female   68      9       0.00   \n",
       "5386          Gardiner          642    France    Male   48      9  118317.27   \n",
       "5700         Perreault          447    France    Male   41      3       0.00   \n",
       "5904         Balsillie          692   Germany    Male   45      6  142084.04   \n",
       "6150           Maclean          632   Germany    Male   41      8  127205.32   \n",
       "6172               Day          568   Germany    Male   43      5   87612.64   \n",
       "6279         Chiemenam          757     Spain  Female   55      9  117294.12   \n",
       "6750             Riley          618    France  Female   42      2       0.00   \n",
       "6875           Brookes          610    France  Female   57      7   72092.95   \n",
       "7257          Voronoff          747    France  Female   47      5  139914.60   \n",
       "7457           Galgano          665   Germany  Female   43      2  116322.27   \n",
       "7567        Chidiebere          629    France    Male   44      5       0.00   \n",
       "7698           Dawkins          592    France    Male   60      9       0.00   \n",
       "7724         Oluchukwu          842    France    Male   44      3  141252.18   \n",
       "7729               Yen          850    France  Female   35      2  128548.49   \n",
       "8041           Fanucci          698     Spain  Female   50      1       0.00   \n",
       "8590           Osborne          771    France  Female   41     10  108309.00   \n",
       "8683       Christopher          697    France  Female   49      7  195238.29   \n",
       "8850        Fiorentini          500     Spain  Female   50      5       0.00   \n",
       "8923        Burlingame          625   Germany  Female   55      8  118772.71   \n",
       "9215          Genovesi          584   Germany  Female   37     10  134171.80   \n",
       "9255      Rapuluchukwu          847   Germany  Female   41      3  101543.51   \n",
       "9323           Kennedy          644    France    Male   50      9   76817.00   \n",
       "9370             Cheng          561    France    Male   43      4       0.00   \n",
       "9411            Forbes          689   Germany  Female   40      4   78119.59   \n",
       "9540        Williamson          727   Germany    Male   46      3  115248.11   \n",
       "9565              Long          582    France  Female   38      9  135979.01   \n",
       "\n",
       "     NumOfProducts HasCrCard IsActiveMember  EstimatedSalary  Exited  \n",
       "7                4         1              0        119346.88       1  \n",
       "70               4         1              0         28373.86       1  \n",
       "1254             4         1              0         31272.14       1  \n",
       "1469             4         0              0        166164.30       1  \n",
       "1488             4         1              0         41921.75       1  \n",
       "1701             4         1              1        194700.81       1  \n",
       "1876             4         0              1          6981.43       1  \n",
       "2124             4         0              0        184464.70       1  \n",
       "2196             4         1              1        143007.49       1  \n",
       "2285             4         1              1         47775.34       1  \n",
       "2462             4         1              1        147311.47       1  \n",
       "2499             4         0              1        131766.67       1  \n",
       "2509             4         1              0        179267.94       1  \n",
       "2541             4         0              1         66238.23       1  \n",
       "2614             4         1              0        128881.87       1  \n",
       "2617             4         0              1        108040.86       1  \n",
       "2872             4         1              0        198874.52       1  \n",
       "3152             4         1              0         77063.63       1  \n",
       "3365             4         1              1         28238.25       1  \n",
       "3841             4         1              1        138160.11       1  \n",
       "4013             4         0              0         27145.73       1  \n",
       "4014             4         1              1         26912.72       1  \n",
       "4166             4         1              0          5669.31       1  \n",
       "4260             4         0              1        106174.70       1  \n",
       "4403             4         1              0        115116.35       1  \n",
       "4511             4         1              0        101039.53       1  \n",
       "4516             4         1              1          9497.99       1  \n",
       "4606             4         1              1         49418.87       1  \n",
       "4654             4         0              0        187866.21       1  \n",
       "4748             4         1              1        117690.58       1  \n",
       "4822             4         0              1        179705.13       1  \n",
       "5010             4         1              1        168080.53       1  \n",
       "5137             4         1              0        157143.61       1  \n",
       "5235             4         1              1        176353.87       1  \n",
       "5386             4         0              0         78702.98       1  \n",
       "5700             4         1              1        197490.39       1  \n",
       "5904             4         1              0        188305.85       1  \n",
       "6150             4         1              0         93874.87       1  \n",
       "6172             4         1              1        107155.40       1  \n",
       "6279             4         1              0         94187.47       1  \n",
       "6750             4         0              0        111097.39       1  \n",
       "6875             4         0              1        113228.82       1  \n",
       "7257             4         0              1        129964.56       1  \n",
       "7457             4         1              0         35640.12       1  \n",
       "7567             4         0              0        117572.59       1  \n",
       "7698             4         1              1         13614.01       1  \n",
       "7724             4         0              1        128521.16       1  \n",
       "7729             4         1              0         75478.95       1  \n",
       "8041             4         1              0         88566.90       1  \n",
       "8590             4         1              1        137510.41       1  \n",
       "8683             4         0              1        131083.56       1  \n",
       "8850             4         1              1         83866.35       1  \n",
       "8923             4         0              0        135853.62       1  \n",
       "9215             4         1              1         70927.11       1  \n",
       "9255             4         1              0         16025.17       1  \n",
       "9323             4         1              0        196371.13       1  \n",
       "9370             4         0              0         18522.91       1  \n",
       "9411             4         1              0        119259.34       1  \n",
       "9540             4         1              0        130752.01       1  \n",
       "9565             4         1              1         76582.95       1  "
      ]
     },
     "execution_count": 23,
     "metadata": {},
     "output_type": "execute_result"
    }
   ],
   "source": [
    "df_train[df_train[\"NumOfProducts\"]==4]"
   ]
  },
  {
   "cell_type": "code",
   "execution_count": 24,
   "id": "18a6b9f6-bc32-4819-ba04-caa250e69bfb",
   "metadata": {},
   "outputs": [
    {
     "data": {
      "text/plain": [
       "HasCrCard\n",
       "0    0.513831\n",
       "1    0.494273\n",
       "Name: Exited, dtype: float64"
      ]
     },
     "execution_count": 24,
     "metadata": {},
     "output_type": "execute_result"
    }
   ],
   "source": [
    "df_train.groupby(\"HasCrCard\").Exited.mean()"
   ]
  },
  {
   "cell_type": "code",
   "execution_count": 25,
   "id": "70d63bff-5b4f-428f-834e-421e29591c2a",
   "metadata": {},
   "outputs": [
    {
     "data": {
      "text/plain": [
       "<Axes: xlabel='Exited', ylabel='count'>"
      ]
     },
     "execution_count": 25,
     "metadata": {},
     "output_type": "execute_result"
    },
    {
     "data": {
      "image/png": "[encoded data removed]",
      "text/plain": [
       "<Figure size 640x480 with 1 Axes>"
      ]
     },
     "metadata": {},
     "output_type": "display_data"
    }
   ],
   "source": [
    "sns.countplot(data=df_train,x=\"Exited\",hue=\"HasCrCard\")"
   ]
  },
  {
   "cell_type": "code",
   "execution_count": 26,
   "id": "ca045de6-b693-4040-94f9-8dae206ee38c",
   "metadata": {},
   "outputs": [
    {
     "data": {
      "text/plain": [
       "IsActiveMember\n",
       "0    0.593437\n",
       "1    0.390957\n",
       "Name: Exited, dtype: float64"
      ]
     },
     "execution_count": 26,
     "metadata": {},
     "output_type": "execute_result"
    }
   ],
   "source": [
    "df_train.groupby(\"IsActiveMember\").Exited.mean()"
   ]
  },
  {
   "cell_type": "code",
   "execution_count": 27,
   "id": "b136bd65-7730-4911-9bef-7134c737d139",
   "metadata": {},
   "outputs": [
    {
     "data": {
      "text/plain": [
       "<Axes: xlabel='Exited', ylabel='count'>"
      ]
     },
     "execution_count": 27,
     "metadata": {},
     "output_type": "execute_result"
    },
    {
     "data": {
      "image/png": "[encoded data removed]",
      "text/plain": [
       "<Figure size 640x480 with 1 Axes>"
      ]
     },
     "metadata": {},
     "output_type": "display_data"
    }
   ],
   "source": [
    "sns.countplot(data=df_train,x=\"Exited\",hue=\"IsActiveMember\")"
   ]
  },
  {
   "cell_type": "code",
   "execution_count": 28,
   "id": "282747f7-f7bd-4aa3-b3a5-de4365c6358b",
   "metadata": {},
   "outputs": [
    {
     "data": {
      "text/plain": [
       "<Axes: xlabel='Exited', ylabel='Age'>"
      ]
     },
     "execution_count": 28,
     "metadata": {},
     "output_type": "execute_result"
    },
    {
     "data": {
      "image/png": "[encoded data removed]",
      "text/plain": [
       "<Figure size 640x480 with 1 Axes>"
      ]
     },
     "metadata": {},
     "output_type": "display_data"
    }
   ],
   "source": [
    "sns.violinplot(data=df_train, x=\"Exited\", y=\"Age\")"
   ]
  },
  {
   "cell_type": "code",
   "execution_count": 29,
   "id": "632e0c89-4f66-492d-8b36-ca313bd13634",
   "metadata": {},
   "outputs": [
    {
     "data": {
      "text/plain": [
       "np.float64(0.7010897768552153)"
      ]
     },
     "execution_count": 29,
     "metadata": {},
     "output_type": "execute_result"
    }
   ],
   "source": [
    "df_train[df_train[\"Age\"]>40].Exited.mean()"
   ]
  },
  {
   "cell_type": "code",
   "execution_count": 30,
   "id": "ec1f2fcb-f2c1-4ef8-951b-0b94b9314ea8",
   "metadata": {},
   "outputs": [
    {
     "data": {
      "text/plain": [
       "np.float64(0.30319959370238697)"
      ]
     },
     "execution_count": 30,
     "metadata": {},
     "output_type": "execute_result"
    }
   ],
   "source": [
    "df_train[df_train[\"Age\"]<40].Exited.mean()"
   ]
  },
  {
   "cell_type": "code",
   "execution_count": 31,
   "id": "96be3d01-06aa-4d9c-a478-d27db07a5048",
   "metadata": {},
   "outputs": [
    {
     "data": {
      "text/plain": [
       "<Axes: xlabel='Exited', ylabel='CreditScore'>"
      ]
     },
     "execution_count": 31,
     "metadata": {},
     "output_type": "execute_result"
    },
    {
     "data": {
      "image/png": "[encoded data removed]",
      "text/plain": [
       "<Figure size 640x480 with 1 Axes>"
      ]
     },
     "metadata": {},
     "output_type": "display_data"
    }
   ],
   "source": [
    "sns.violinplot(data=df_train,x=\"Exited\",y=\"CreditScore\")"
   ]
  },
  {
   "cell_type": "code",
   "execution_count": 32,
   "id": "0ba3ba0c-9ab1-4066-b836-498ea9d2b0a8",
   "metadata": {},
   "outputs": [
    {
     "data": {
      "text/plain": [
       "<Axes: xlabel='Exited', ylabel='Balance'>"
      ]
     },
     "execution_count": 32,
     "metadata": {},
     "output_type": "execute_result"
    },
    {
     "data": {
      "image/png": "[encoded data removed]",
      "text/plain": [
       "<Figure size 640x480 with 1 Axes>"
      ]
     },
     "metadata": {},
     "output_type": "display_data"
    }
   ],
   "source": [
    "sns.violinplot(data=df_train,x=\"Exited\",y=\"Balance\")"
   ]
  },
  {
   "cell_type": "code",
   "execution_count": 33,
   "id": "aa567063-a5ec-42d4-9870-d3a91fbe84af",
   "metadata": {},
   "outputs": [
    {
     "data": {
      "text/plain": [
       "np.float64(0.5706880301602262)"
      ]
     },
     "execution_count": 33,
     "metadata": {},
     "output_type": "execute_result"
    }
   ],
   "source": [
    "df_train[df_train[\"Balance\"]>100000].Exited.mean()"
   ]
  },
  {
   "cell_type": "code",
   "execution_count": 34,
   "id": "0067b496-ba81-4987-a47b-204b5e773f5a",
   "metadata": {},
   "outputs": [
    {
     "data": {
      "text/plain": [
       "<Axes: xlabel='EstimatedSalary', ylabel='Exited'>"
      ]
     },
     "execution_count": 34,
     "metadata": {},
     "output_type": "execute_result"
    },
    {
     "data": {
      "image/png": "[encoded data removed]",
      "text/plain": [
       "<Figure size 640x480 with 1 Axes>"
      ]
     },
     "metadata": {},
     "output_type": "display_data"
    }
   ],
   "source": [
    "sns.scatterplot(data=df_train,y=\"Exited\",x=\"EstimatedSalary\")"
   ]
  },
  {
   "cell_type": "markdown",
   "id": "d6819ef7-788e-4474-820c-ea1a2a72c929",
   "metadata": {},
   "source": [
    "#### Some Observations :\n",
    "1. We will take Geography , gender ,HasCrCard ,IsActiveMember  and Tenuer columns with no change\n",
    "2. for the NumOfProducts column i will replace 2,3,4 by more_than_1\n",
    "3. for the numerical columns they need scaling "
   ]
  },
  {
   "cell_type": "markdown",
   "id": "d55d4b04-faf3-4743-a0f0-87708f252a3f",
   "metadata": {},
   "source": [
    "# Pre-Processing Data"
   ]
  },
  {
   "cell_type": "code",
   "execution_count": 64,
   "id": "26a4b692-848c-423b-b420-7244d37af244",
   "metadata": {},
   "outputs": [],
   "source": [
    "cat = list(df_train.select_dtypes(include=\"object\"))"
   ]
  },
  {
   "cell_type": "code",
   "execution_count": 65,
   "id": "ba3530a8-be1d-4030-932f-c344a7988126",
   "metadata": {},
   "outputs": [
    {
     "data": {
      "text/plain": [
       "['Tenure', 'NumOfProducts', 'HasCrCard', 'IsActiveMember']"
      ]
     },
     "execution_count": 65,
     "metadata": {},
     "output_type": "execute_result"
    }
   ],
   "source": [
    "cat"
   ]
  },
  {
   "cell_type": "code",
   "execution_count": 66,
   "id": "f56ea263-bc57-4c3e-9739-59ee2c7d3604",
   "metadata": {},
   "outputs": [],
   "source": [
    "numer = list(df_train.select_dtypes(exclude=\"object\"))"
   ]
  },
  {
   "cell_type": "code",
   "execution_count": 67,
   "id": "17211b78-7a9a-4749-b97c-beaead1fccf5",
   "metadata": {},
   "outputs": [
    {
     "data": {
      "text/plain": [
       "['CreditScore',\n",
       " 'Geography',\n",
       " 'Gender',\n",
       " 'Age',\n",
       " 'Balance',\n",
       " 'EstimatedSalary',\n",
       " 'Exited']"
      ]
     },
     "execution_count": 67,
     "metadata": {},
     "output_type": "execute_result"
    }
   ],
   "source": [
    "numer"
   ]
  },
  {
   "cell_type": "code",
   "execution_count": 39,
   "id": "53c8062c-98bb-4b3b-8b70-de729267c803",
   "metadata": {},
   "outputs": [],
   "source": [
    "numer.remove(\"Exited\")"
   ]
  },
  {
   "cell_type": "code",
   "execution_count": 40,
   "id": "f61ebc88-aa3a-4ef9-a2f9-7d4d008e4ee2",
   "metadata": {},
   "outputs": [],
   "source": [
    "#Normalization\n",
    "for i in numer :\n",
    "    df_train[i] = (df_train[i] - df_train[i].min())/(df_train[i].max()-df_train[i].min())"
   ]
  },
  {
   "cell_type": "code",
   "execution_count": 46,
   "id": "9254c13b-3c6c-4743-ae99-3b547a03c415",
   "metadata": {},
   "outputs": [],
   "source": [
    "df_train[\"NumOfProducts\"].replace([2,3,4],'>1',inplace=True)"
   ]
  },
  {
   "cell_type": "code",
   "execution_count": 48,
   "id": "bcfe783e-1537-4baf-a8d7-03fc17b91e8d",
   "metadata": {},
   "outputs": [
    {
     "data": {
      "text/html": [
       "<div>\n",
       "<style scoped>\n",
       "    .dataframe tbody tr th:only-of-type {\n",
       "        vertical-align: middle;\n",
       "    }\n",
       "\n",
       "    .dataframe tbody tr th {\n",
       "        vertical-align: top;\n",
       "    }\n",
       "\n",
       "    .dataframe thead th {\n",
       "        text-align: right;\n",
       "    }\n",
       "</style>\n",
       "<table border=\"1\" class=\"dataframe\">\n",
       "  <thead>\n",
       "    <tr style=\"text-align: right;\">\n",
       "      <th></th>\n",
       "      <th>Surname</th>\n",
       "      <th>CreditScore</th>\n",
       "      <th>Geography</th>\n",
       "      <th>Gender</th>\n",
       "      <th>Age</th>\n",
       "      <th>Tenure</th>\n",
       "      <th>Balance</th>\n",
       "      <th>NumOfProducts</th>\n",
       "      <th>HasCrCard</th>\n",
       "      <th>IsActiveMember</th>\n",
       "      <th>EstimatedSalary</th>\n",
       "      <th>Exited</th>\n",
       "    </tr>\n",
       "  </thead>\n",
       "  <tbody>\n",
       "    <tr>\n",
       "      <th>8165</th>\n",
       "      <td>Pickering</td>\n",
       "      <td>0.512</td>\n",
       "      <td>Spain</td>\n",
       "      <td>Male</td>\n",
       "      <td>0.256757</td>\n",
       "      <td>8</td>\n",
       "      <td>0.616635</td>\n",
       "      <td>&gt;1</td>\n",
       "      <td>1</td>\n",
       "      <td>0</td>\n",
       "      <td>0.445666</td>\n",
       "      <td>0</td>\n",
       "    </tr>\n",
       "    <tr>\n",
       "      <th>4981</th>\n",
       "      <td>Bray</td>\n",
       "      <td>0.634</td>\n",
       "      <td>Spain</td>\n",
       "      <td>Female</td>\n",
       "      <td>0.067568</td>\n",
       "      <td>6</td>\n",
       "      <td>0.542454</td>\n",
       "      <td>&gt;1</td>\n",
       "      <td>0</td>\n",
       "      <td>0</td>\n",
       "      <td>0.848723</td>\n",
       "      <td>1</td>\n",
       "    </tr>\n",
       "  </tbody>\n",
       "</table>\n",
       "</div>"
      ],
      "text/plain": [
       "        Surname  CreditScore Geography  Gender       Age Tenure   Balance  \\\n",
       "8165  Pickering        0.512     Spain    Male  0.256757      8  0.616635   \n",
       "4981       Bray        0.634     Spain  Female  0.067568      6  0.542454   \n",
       "\n",
       "     NumOfProducts HasCrCard IsActiveMember  EstimatedSalary  Exited  \n",
       "8165            >1         1              0         0.445666       0  \n",
       "4981            >1         0              0         0.848723       1  "
      ]
     },
     "execution_count": 48,
     "metadata": {},
     "output_type": "execute_result"
    }
   ],
   "source": [
    "df_train.sample(2)"
   ]
  },
  {
   "cell_type": "code",
   "execution_count": 49,
   "id": "b217a7eb-12ca-478c-b2dc-b1d33a0f1275",
   "metadata": {},
   "outputs": [
    {
     "data": {
      "text/plain": [
       "Surname            0\n",
       "CreditScore        0\n",
       "Geography          0\n",
       "Gender             0\n",
       "Age                0\n",
       "Tenure             0\n",
       "Balance            0\n",
       "NumOfProducts      0\n",
       "HasCrCard          0\n",
       "IsActiveMember     0\n",
       "EstimatedSalary    0\n",
       "Exited             0\n",
       "dtype: int64"
      ]
     },
     "execution_count": 49,
     "metadata": {},
     "output_type": "execute_result"
    }
   ],
   "source": [
    "df_train.isna().sum()"
   ]
  },
  {
   "cell_type": "code",
   "execution_count": 50,
   "id": "3d40d75b-699e-4232-9188-a1e4409a5b2e",
   "metadata": {},
   "outputs": [],
   "source": [
    "## we don't will use this col\n",
    "df_train.drop(columns=\"Surname\",inplace=True)"
   ]
  },
  {
   "cell_type": "code",
   "execution_count": 53,
   "id": "6101dc82-037f-4343-8e9c-0284526b917d",
   "metadata": {},
   "outputs": [],
   "source": [
    "cat.remove(\"Surname\")"
   ]
  },
  {
   "cell_type": "code",
   "execution_count": 56,
   "id": "bc035247-d164-4767-ad54-ac79d42c1dad",
   "metadata": {},
   "outputs": [
    {
     "name": "stdout",
     "output_type": "stream",
     "text": [
      "<class 'pandas.core.series.Series'>\n",
      "Index: 4074 entries, 8165 to 9998\n",
      "Series name: IsActiveMember\n",
      "Non-Null Count  Dtype \n",
      "--------------  ----- \n",
      "4074 non-null   object\n",
      "dtypes: object(1)\n",
      "memory usage: 63.7+ KB\n"
     ]
    }
   ],
   "source": [
    "df_train[\"IsActiveMember\"].info()"
   ]
  },
  {
   "cell_type": "code",
   "execution_count": 69,
   "id": "570a83ef-bba3-45c9-adc5-518c9518f428",
   "metadata": {},
   "outputs": [],
   "source": [
    "## encoding categorical columns\n",
    "from sklearn.preprocessing import LabelEncoder\n",
    "labelencoder = LabelEncoder()\n",
    "for i in cat :\n",
    "    df_train[i] = labelencoder.fit_transform(df_train[i])"
   ]
  },
  {
   "cell_type": "code",
   "execution_count": 70,
   "id": "4cdb7d56-12dc-4074-9bf6-69341e1570ac",
   "metadata": {},
   "outputs": [
    {
     "data": {
      "text/html": [
       "<div>\n",
       "<style scoped>\n",
       "    .dataframe tbody tr th:only-of-type {\n",
       "        vertical-align: middle;\n",
       "    }\n",
       "\n",
       "    .dataframe tbody tr th {\n",
       "        vertical-align: top;\n",
       "    }\n",
       "\n",
       "    .dataframe thead th {\n",
       "        text-align: right;\n",
       "    }\n",
       "</style>\n",
       "<table border=\"1\" class=\"dataframe\">\n",
       "  <thead>\n",
       "    <tr style=\"text-align: right;\">\n",
       "      <th></th>\n",
       "      <th>CreditScore</th>\n",
       "      <th>Geography</th>\n",
       "      <th>Gender</th>\n",
       "      <th>Age</th>\n",
       "      <th>Tenure</th>\n",
       "      <th>Balance</th>\n",
       "      <th>NumOfProducts</th>\n",
       "      <th>HasCrCard</th>\n",
       "      <th>IsActiveMember</th>\n",
       "      <th>EstimatedSalary</th>\n",
       "      <th>Exited</th>\n",
       "    </tr>\n",
       "  </thead>\n",
       "  <tbody>\n",
       "    <tr>\n",
       "      <th>8165</th>\n",
       "      <td>0.512</td>\n",
       "      <td>2</td>\n",
       "      <td>1</td>\n",
       "      <td>0.256757</td>\n",
       "      <td>9</td>\n",
       "      <td>0.616635</td>\n",
       "      <td>1</td>\n",
       "      <td>1</td>\n",
       "      <td>0</td>\n",
       "      <td>0.445666</td>\n",
       "      <td>0</td>\n",
       "    </tr>\n",
       "    <tr>\n",
       "      <th>6409</th>\n",
       "      <td>0.666</td>\n",
       "      <td>0</td>\n",
       "      <td>0</td>\n",
       "      <td>0.202703</td>\n",
       "      <td>10</td>\n",
       "      <td>0.000000</td>\n",
       "      <td>1</td>\n",
       "      <td>1</td>\n",
       "      <td>1</td>\n",
       "      <td>0.193963</td>\n",
       "      <td>0</td>\n",
       "    </tr>\n",
       "    <tr>\n",
       "      <th>2157</th>\n",
       "      <td>0.788</td>\n",
       "      <td>0</td>\n",
       "      <td>0</td>\n",
       "      <td>0.351351</td>\n",
       "      <td>4</td>\n",
       "      <td>0.000000</td>\n",
       "      <td>1</td>\n",
       "      <td>1</td>\n",
       "      <td>1</td>\n",
       "      <td>0.945506</td>\n",
       "      <td>0</td>\n",
       "    </tr>\n",
       "    <tr>\n",
       "      <th>1618</th>\n",
       "      <td>0.694</td>\n",
       "      <td>0</td>\n",
       "      <td>1</td>\n",
       "      <td>0.121622</td>\n",
       "      <td>9</td>\n",
       "      <td>0.562873</td>\n",
       "      <td>1</td>\n",
       "      <td>1</td>\n",
       "      <td>0</td>\n",
       "      <td>0.453130</td>\n",
       "      <td>0</td>\n",
       "    </tr>\n",
       "    <tr>\n",
       "      <th>1633</th>\n",
       "      <td>0.424</td>\n",
       "      <td>0</td>\n",
       "      <td>1</td>\n",
       "      <td>0.229730</td>\n",
       "      <td>8</td>\n",
       "      <td>0.000000</td>\n",
       "      <td>0</td>\n",
       "      <td>0</td>\n",
       "      <td>0</td>\n",
       "      <td>0.244415</td>\n",
       "      <td>0</td>\n",
       "    </tr>\n",
       "    <tr>\n",
       "      <th>...</th>\n",
       "      <td>...</td>\n",
       "      <td>...</td>\n",
       "      <td>...</td>\n",
       "      <td>...</td>\n",
       "      <td>...</td>\n",
       "      <td>...</td>\n",
       "      <td>...</td>\n",
       "      <td>...</td>\n",
       "      <td>...</td>\n",
       "      <td>...</td>\n",
       "      <td>...</td>\n",
       "    </tr>\n",
       "    <tr>\n",
       "      <th>9981</th>\n",
       "      <td>0.296</td>\n",
       "      <td>1</td>\n",
       "      <td>1</td>\n",
       "      <td>0.324324</td>\n",
       "      <td>4</td>\n",
       "      <td>0.605982</td>\n",
       "      <td>0</td>\n",
       "      <td>1</td>\n",
       "      <td>1</td>\n",
       "      <td>0.267305</td>\n",
       "      <td>1</td>\n",
       "    </tr>\n",
       "    <tr>\n",
       "      <th>9982</th>\n",
       "      <td>0.610</td>\n",
       "      <td>1</td>\n",
       "      <td>0</td>\n",
       "      <td>0.378378</td>\n",
       "      <td>8</td>\n",
       "      <td>0.546617</td>\n",
       "      <td>0</td>\n",
       "      <td>1</td>\n",
       "      <td>0</td>\n",
       "      <td>0.575969</td>\n",
       "      <td>1</td>\n",
       "    </tr>\n",
       "    <tr>\n",
       "      <th>9991</th>\n",
       "      <td>0.494</td>\n",
       "      <td>0</td>\n",
       "      <td>0</td>\n",
       "      <td>0.472973</td>\n",
       "      <td>5</td>\n",
       "      <td>0.352259</td>\n",
       "      <td>0</td>\n",
       "      <td>1</td>\n",
       "      <td>0</td>\n",
       "      <td>0.347043</td>\n",
       "      <td>1</td>\n",
       "    </tr>\n",
       "    <tr>\n",
       "      <th>9997</th>\n",
       "      <td>0.718</td>\n",
       "      <td>0</td>\n",
       "      <td>0</td>\n",
       "      <td>0.243243</td>\n",
       "      <td>8</td>\n",
       "      <td>0.000000</td>\n",
       "      <td>0</td>\n",
       "      <td>0</td>\n",
       "      <td>1</td>\n",
       "      <td>0.210478</td>\n",
       "      <td>1</td>\n",
       "    </tr>\n",
       "    <tr>\n",
       "      <th>9998</th>\n",
       "      <td>0.844</td>\n",
       "      <td>1</td>\n",
       "      <td>1</td>\n",
       "      <td>0.324324</td>\n",
       "      <td>4</td>\n",
       "      <td>0.299226</td>\n",
       "      <td>1</td>\n",
       "      <td>1</td>\n",
       "      <td>0</td>\n",
       "      <td>0.464622</td>\n",
       "      <td>1</td>\n",
       "    </tr>\n",
       "  </tbody>\n",
       "</table>\n",
       "<p>4074 rows × 11 columns</p>\n",
       "</div>"
      ],
      "text/plain": [
       "      CreditScore  Geography  Gender       Age  Tenure   Balance  \\\n",
       "8165        0.512          2       1  0.256757       9  0.616635   \n",
       "6409        0.666          0       0  0.202703      10  0.000000   \n",
       "2157        0.788          0       0  0.351351       4  0.000000   \n",
       "1618        0.694          0       1  0.121622       9  0.562873   \n",
       "1633        0.424          0       1  0.229730       8  0.000000   \n",
       "...           ...        ...     ...       ...     ...       ...   \n",
       "9981        0.296          1       1  0.324324       4  0.605982   \n",
       "9982        0.610          1       0  0.378378       8  0.546617   \n",
       "9991        0.494          0       0  0.472973       5  0.352259   \n",
       "9997        0.718          0       0  0.243243       8  0.000000   \n",
       "9998        0.844          1       1  0.324324       4  0.299226   \n",
       "\n",
       "      NumOfProducts  HasCrCard  IsActiveMember  EstimatedSalary  Exited  \n",
       "8165              1          1               0         0.445666       0  \n",
       "6409              1          1               1         0.193963       0  \n",
       "2157              1          1               1         0.945506       0  \n",
       "1618              1          1               0         0.453130       0  \n",
       "1633              0          0               0         0.244415       0  \n",
       "...             ...        ...             ...              ...     ...  \n",
       "9981              0          1               1         0.267305       1  \n",
       "9982              0          1               0         0.575969       1  \n",
       "9991              0          1               0         0.347043       1  \n",
       "9997              0          0               1         0.210478       1  \n",
       "9998              1          1               0         0.464622       1  \n",
       "\n",
       "[4074 rows x 11 columns]"
      ]
     },
     "execution_count": 70,
     "metadata": {},
     "output_type": "execute_result"
    }
   ],
   "source": [
    "df_train"
   ]
  },
  {
   "cell_type": "markdown",
   "id": "1d2f8d9a-4fc2-4a97-bc73-960a3d8015b7",
   "metadata": {},
   "source": [
    "# Training The Model"
   ]
  },
  {
   "cell_type": "code",
   "execution_count": 71,
   "id": "35fbe41a-a679-439f-a656-56dc6b5831e5",
   "metadata": {},
   "outputs": [],
   "source": [
    "Y = df_train[\"Exited\"]\n",
    "X = df_train.drop(columns=\"Exited\")"
   ]
  },
  {
   "cell_type": "code",
   "execution_count": 74,
   "id": "238da630-a265-4ffc-9bf8-4c6f226fae72",
   "metadata": {},
   "outputs": [],
   "source": [
    "from sklearn.model_selection import train_test_split\n",
    "X_train,X_test,Y_train,Y_tes = train_test_split(X,Y,test_size=0.2,random_state=42)"
   ]
  },
  {
   "cell_type": "code",
   "execution_count": 75,
   "id": "2feaeeb9-4476-4e16-bcf8-67cb5c72f129",
   "metadata": {},
   "outputs": [],
   "source": [
    "from sklearn.linear_model import LogisticRegression\n",
    "from sklearn.ensemble import RandomForestClassifier\n",
    "from sklearn.ensemble import GradientBoostingClassifier"
   ]
  },
  {
   "cell_type": "code",
   "execution_count": 76,
   "id": "a45b0a7e-2068-4868-854c-8d27e3b98fe3",
   "metadata": {},
   "outputs": [],
   "source": [
    "calssifier = {\n",
    "    \"LogisticRegression\" : LogisticRegression(),\n",
    "    \"RandomForest\" : RandomForestClassifier(),\n",
    "    \"GradientBoosting\" : GradientBoostingClassifier()\n",
    "}"
   ]
  },
  {
   "cell_type": "code",
   "execution_count": 77,
   "id": "fa26f32d-fc75-4366-9e1f-2d07f334e779",
   "metadata": {},
   "outputs": [],
   "source": [
    "def train(classifier,x,y) :\n",
    "    for i in classifier.values():\n",
    "        i.fit(x,y)"
   ]
  },
  {
   "cell_type": "code",
   "execution_count": 78,
   "id": "27cdbf84-fbe8-4ebd-aa2b-d4d5cd2fa79d",
   "metadata": {},
   "outputs": [],
   "source": [
    "train(calssifier,X_train,Y_train)"
   ]
  },
  {
   "cell_type": "code",
   "execution_count": 81,
   "id": "49f2552e-0b6e-44ff-b8fa-7b8810b061ed",
   "metadata": {},
   "outputs": [],
   "source": [
    "from sklearn.metrics import  classification_report,f1_score,confusion_matrix,accuracy_score,precision_score"
   ]
  },
  {
   "cell_type": "code",
   "execution_count": 86,
   "id": "e5f72860-5eaa-4f2d-a8ea-781e0ebceab7",
   "metadata": {},
   "outputs": [],
   "source": [
    "models = list(calssifier.values())\n",
    "y_pred_1 = predict(models[0],X_test)\n",
    "y_pred_2 = predict(models[1],X_test)\n",
    "y_pred_3 = predict(models[2],X_test)"
   ]
  },
  {
   "cell_type": "code",
   "execution_count": 89,
   "id": "70e81ce3-8f79-4872-b299-b02889d784a5",
   "metadata": {},
   "outputs": [
    {
     "name": "stdout",
     "output_type": "stream",
     "text": [
      "LogisticRegression\n",
      "-----------------------------------------\n",
      "              precision    recall  f1-score   support\n",
      "\n",
      "           0       0.73      0.72      0.73       443\n",
      "           1       0.68      0.68      0.68       372\n",
      "\n",
      "    accuracy                           0.71       815\n",
      "   macro avg       0.70      0.70      0.70       815\n",
      "weighted avg       0.71      0.71      0.71       815\n",
      "\n",
      "-----------------------------------------\n",
      "0.679144385026738\n",
      "-----------------------------------------\n"
     ]
    }
   ],
   "source": [
    "print(\"LogisticRegression\")\n",
    "print(\"-----------------------------------------\")\n",
    "print(classification_report(Y_tes,y_pred_1))\n",
    "print(\"-----------------------------------------\")\n",
    "print(f1_score(Y_tes,y_pred_1))\n",
    "print(\"-----------------------------------------\")"
   ]
  },
  {
   "cell_type": "code",
   "execution_count": 90,
   "id": "0e5bc158-4cb3-4390-b060-f95830c12fcd",
   "metadata": {},
   "outputs": [
    {
     "name": "stdout",
     "output_type": "stream",
     "text": [
      "RandomForest\n",
      "-----------------------------------------\n",
      "              precision    recall  f1-score   support\n",
      "\n",
      "           0       0.74      0.74      0.74       443\n",
      "           1       0.69      0.69      0.69       372\n",
      "\n",
      "    accuracy                           0.72       815\n",
      "   macro avg       0.72      0.72      0.72       815\n",
      "weighted avg       0.72      0.72      0.72       815\n",
      "\n",
      "-----------------------------------------\n",
      "0.6916890080428955\n",
      "-----------------------------------------\n"
     ]
    }
   ],
   "source": [
    "print(\"RandomForest\")\n",
    "print(\"-----------------------------------------\")\n",
    "print(classification_report(Y_tes,y_pred_2))\n",
    "print(\"-----------------------------------------\")\n",
    "print(f1_score(Y_tes,y_pred_2))\n",
    "print(\"-----------------------------------------\")"
   ]
  },
  {
   "cell_type": "code",
   "execution_count": 91,
   "id": "6f5c04e5-d022-48a3-90f6-b120526b59ed",
   "metadata": {},
   "outputs": [
    {
     "name": "stdout",
     "output_type": "stream",
     "text": [
      "GradientBoosting\n",
      "-----------------------------------------\n",
      "              precision    recall  f1-score   support\n",
      "\n",
      "           0       0.75      0.75      0.75       443\n",
      "           1       0.71      0.71      0.71       372\n",
      "\n",
      "    accuracy                           0.73       815\n",
      "   macro avg       0.73      0.73      0.73       815\n",
      "weighted avg       0.73      0.73      0.73       815\n",
      "\n",
      "-----------------------------------------\n",
      "0.6916890080428955\n",
      "-----------------------------------------\n"
     ]
    }
   ],
   "source": [
    "print(\"GradientBoosting\")\n",
    "print(\"-----------------------------------------\")\n",
    "print(classification_report(Y_tes,y_pred_3))\n",
    "print(\"-----------------------------------------\")\n",
    "print(f1_score(Y_tes,y_pred_2))\n",
    "print(\"-----------------------------------------\")"
   ]
  },
  {
   "cell_type": "code",
   "execution_count": 96,
   "id": "895e1b0d-9fc1-4963-a19d-07ea032eb787",
   "metadata": {},
   "outputs": [
    {
     "data": {
      "text/plain": [
       "<Axes: >"
      ]
     },
     "execution_count": 96,
     "metadata": {},
     "output_type": "execute_result"
    },
    {
     "data": {
      "image/png": "[encoded data removed]",
      "text/plain": [
       "<Figure size 640x480 with 2 Axes>"
      ]
     },
     "metadata": {},
     "output_type": "display_data"
    }
   ],
   "source": [
    "import numpy as np\n",
    "cf_matrix = confusion_matrix(Y_tes, y_pred_3)\n",
    "sns.heatmap(cf_matrix/np.sum(cf_matrix), annot=True, \n",
    "            fmt='.2%', cmap='Blues')"
   ]
  },
  {
   "cell_type": "markdown",
   "id": "2600426c-4a97-4f79-8610-1312da755a2d",
   "metadata": {},
   "source": [
    "### is not a good accuracy we will try to use less columns"
   ]
  },
  {
   "cell_type": "code",
   "execution_count": 102,
   "id": "7434f9c1-c7fd-4a1b-9f95-2eac3f97aaa9",
   "metadata": {},
   "outputs": [
    {
     "data": {
      "text/plain": [
       "NumOfProducts     -0.235863\n",
       "IsActiveMember    -0.201877\n",
       "Gender            -0.141422\n",
       "CreditScore       -0.034660\n",
       "Tenure            -0.020661\n",
       "HasCrCard         -0.017800\n",
       "EstimatedSalary    0.006173\n",
       "Geography          0.055035\n",
       "Balance            0.146820\n",
       "Age                0.343870\n",
       "Exited             1.000000\n",
       "Name: Exited, dtype: float64"
      ]
     },
     "execution_count": 102,
     "metadata": {},
     "output_type": "execute_result"
    }
   ],
   "source": [
    "df_train.corr()[\"Exited\"].sort_values()"
   ]
  },
  {
   "cell_type": "code",
   "execution_count": 103,
   "id": "ddd69450-6c3c-48e3-8f95-37c6c0da45aa",
   "metadata": {},
   "outputs": [],
   "source": [
    "X = df_train.loc[:,[\"Age\",\"Balance\",\"Gender\",\"IsActiveMember\",\"NumOfProducts\"]]"
   ]
  },
  {
   "cell_type": "code",
   "execution_count": 104,
   "id": "e3cb2654-5141-485b-be8c-c67b9f6d46c6",
   "metadata": {},
   "outputs": [],
   "source": [
    "y = df_train[\"Exited\"]"
   ]
  },
  {
   "cell_type": "code",
   "execution_count": 107,
   "id": "f1654929-94e2-43d4-b571-3ef00ccbee45",
   "metadata": {},
   "outputs": [],
   "source": [
    "X_train,X_test,Y_train,Y_tes = train_test_split(X,y,test_size=0.2,random_state=42)"
   ]
  },
  {
   "cell_type": "code",
   "execution_count": 108,
   "id": "dc98231c-be9f-4f0b-b51d-bb355653eb18",
   "metadata": {},
   "outputs": [],
   "source": [
    "train(calssifier,X_train,Y_train)"
   ]
  },
  {
   "cell_type": "code",
   "execution_count": 109,
   "id": "1f97b27a-60c1-452b-b9f7-7dc40705c6d7",
   "metadata": {},
   "outputs": [],
   "source": [
    "models = list(calssifier.values())\n",
    "y_pred_1 = predict(models[0],X_test)\n",
    "y_pred_2 = predict(models[1],X_test)\n",
    "y_pred_3 = predict(models[2],X_test)"
   ]
  },
  {
   "cell_type": "code",
   "execution_count": 110,
   "id": "7842042b-69f9-454e-8e30-5b5bc0151db2",
   "metadata": {},
   "outputs": [
    {
     "name": "stdout",
     "output_type": "stream",
     "text": [
      "LogisticRegression\n",
      "-----------------------------------------\n",
      "              precision    recall  f1-score   support\n",
      "\n",
      "           0       0.74      0.73      0.73       443\n",
      "           1       0.68      0.69      0.69       372\n",
      "\n",
      "    accuracy                           0.71       815\n",
      "   macro avg       0.71      0.71      0.71       815\n",
      "weighted avg       0.71      0.71      0.71       815\n",
      "\n",
      "-----------------------------------------\n",
      "0.688\n",
      "-----------------------------------------\n"
     ]
    }
   ],
   "source": [
    "print(\"LogisticRegression\")\n",
    "print(\"-----------------------------------------\")\n",
    "print(classification_report(Y_tes,y_pred_1))\n",
    "print(\"-----------------------------------------\")\n",
    "print(f1_score(Y_tes,y_pred_1))\n",
    "print(\"-----------------------------------------\")"
   ]
  },
  {
   "cell_type": "code",
   "execution_count": 111,
   "id": "6e448bc0-8091-4102-85e1-74488b720c37",
   "metadata": {},
   "outputs": [
    {
     "name": "stdout",
     "output_type": "stream",
     "text": [
      "RandomForest\n",
      "-----------------------------------------\n",
      "              precision    recall  f1-score   support\n",
      "\n",
      "           0       0.74      0.72      0.73       443\n",
      "           1       0.67      0.69      0.68       372\n",
      "\n",
      "    accuracy                           0.71       815\n",
      "   macro avg       0.70      0.71      0.71       815\n",
      "weighted avg       0.71      0.71      0.71       815\n",
      "\n",
      "-----------------------------------------\n",
      "0.6834437086092715\n",
      "-----------------------------------------\n"
     ]
    }
   ],
   "source": [
    "print(\"RandomForest\")\n",
    "print(\"-----------------------------------------\")\n",
    "print(classification_report(Y_tes,y_pred_2))\n",
    "print(\"-----------------------------------------\")\n",
    "print(f1_score(Y_tes,y_pred_2))\n",
    "print(\"-----------------------------------------\")"
   ]
  },
  {
   "cell_type": "code",
   "execution_count": 112,
   "id": "ba28efd0-13c0-487b-8d08-49e7f2eee50a",
   "metadata": {},
   "outputs": [
    {
     "name": "stdout",
     "output_type": "stream",
     "text": [
      "GradientBoosting\n",
      "-----------------------------------------\n",
      "              precision    recall  f1-score   support\n",
      "\n",
      "           0       0.76      0.75      0.76       443\n",
      "           1       0.71      0.72      0.72       372\n",
      "\n",
      "    accuracy                           0.74       815\n",
      "   macro avg       0.74      0.74      0.74       815\n",
      "weighted avg       0.74      0.74      0.74       815\n",
      "\n",
      "-----------------------------------------\n",
      "0.6834437086092715\n",
      "-----------------------------------------\n"
     ]
    }
   ],
   "source": [
    "print(\"GradientBoosting\")\n",
    "print(\"-----------------------------------------\")\n",
    "print(classification_report(Y_tes,y_pred_3))\n",
    "print(\"-----------------------------------------\")\n",
    "print(f1_score(Y_tes,y_pred_2))\n",
    "print(\"-----------------------------------------\")"
   ]
  },
  {
   "cell_type": "markdown",
   "id": "509cafda-54ac-42a3-8994-1fc47a74314f",
   "metadata": {},
   "source": [
    "## Model Saving "
   ]
  },
  {
   "cell_type": "code",
   "execution_count": 114,
   "id": "fa89392c-f0f7-4129-a2c4-19b9ea80582c",
   "metadata": {},
   "outputs": [
    {
     "data": {
      "text/plain": [
       "['GradientBoosting_model.pkl']"
      ]
     },
     "execution_count": 114,
     "metadata": {},
     "output_type": "execute_result"
    }
   ],
   "source": [
    "import joblib\n",
    "joblib.dump(models[2], 'GradientBoosting_model.pkl')"
   ]
  }
 ],
 "metadata": {
  "kernelspec": {
   "display_name": "Python 3 (ipykernel)",
   "language": "python",
   "name": "python3"
  },
  "language_info": {
   "codemirror_mode": {
    "name": "ipython",
    "version": 3
   },
   "file_extension": ".py",
   "mimetype": "text/x-python",
   "name": "python",
   "nbconvert_exporter": "python",
   "pygments_lexer": "ipython3",
   "version": "3.12.4"
  }
 },
 "nbformat": 4,
 "nbformat_minor": 5
}
